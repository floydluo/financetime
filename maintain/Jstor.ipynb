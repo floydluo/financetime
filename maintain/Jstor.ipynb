{
 "cells": [
  {
   "cell_type": "markdown",
   "metadata": {},
   "source": [
    "# 0.Preparation"
   ]
  },
  {
   "cell_type": "code",
   "execution_count": 6,
   "metadata": {
    "collapsed": false
   },
   "outputs": [
    {
     "data": {
      "text/plain": [
       "<200 https://www.jstor.org/journal/amereconrevi>"
      ]
     },
     "execution_count": 6,
     "metadata": {},
     "output_type": "execute_result"
    }
   ],
   "source": [
    "# we need headers to disguise our bot as a browser\n",
    "\n",
    "headers = {\n",
    "    \"Connection\": \"keep-alive\",\n",
    "    \"Cache-Control\": \"max-age=0\",\n",
    "    \"Accept\": \"text/html,application/xhtml+xml,application/xml;q=0.9,image/webp,*/*;q=0.8\",\n",
    "    \"User-Agent\": \"Mozilla/5.0 (Windows NT 6.1; WOW64) AppleWebKit/537.36 (KHTML, like Gecko) Chrome/34.0.1847.131 Safari/537.36\",\n",
    "    \"Accept-Encoding\": \"gzip,deflate,sdch\",\n",
    "    \"Accept-Language\": \"zh-CN,zh;q=0.8,en-US;q=0.6,en;q=0.4,zh-TW;q=0.2\",\n",
    "}\n",
    "\n",
    "import requests\n",
    "from scrapy.http import TextResponse\n",
    "\n",
    "r = requests.get('https://www.jstor.org/journal/amereconrevi', \n",
    "                 headers = headers)\n",
    "\n",
    "response = TextResponse(r.url, body = r.text, encoding = 'utf-8')\n",
    "\n",
    "# there is a response we need to handle\n",
    "response"
   ]
  },
  {
   "cell_type": "code",
   "execution_count": 7,
   "metadata": {
    "collapsed": true
   },
   "outputs": [],
   "source": [
    "import re\n",
    "def cleanhtml(raw_html):\n",
    "    cleanr = re.compile('<.*?>')\n",
    "    cleantext = re.sub(cleanr, '', raw_html)\n",
    "    return cleantext"
   ]
  },
  {
   "cell_type": "code",
   "execution_count": 8,
   "metadata": {
    "collapsed": true
   },
   "outputs": [],
   "source": [
    "# -*- coding: utf-8 -*-\n",
    "\n",
    "# Define here the models for your scraped items\n",
    "#\n",
    "# See documentation in:\n",
    "# http://doc.scrapy.org/en/latest/topics/items.html\n",
    "\n",
    "from scrapy import Item, Field\n",
    "\n",
    "\n",
    "class DocumentItem(Item):\n",
    "    # define the fields for your item here like:\n",
    "    # name = scrapy.Field()\n",
    "    abstract = Field()\n",
    "\n",
    "    publication_date = Field()\n",
    "    submission_date = Field()\n",
    "    online_date = Field()\n",
    "    revision_date = Field()\n",
    "    accepted_date = Field()\n",
    "\n",
    "    title = Field()\n",
    "    coverpage_url = Field()\n",
    "    fpage = Field()\n",
    "    lpage = Field()\n",
    "    pages = Field()\n",
    "    submission_path = Field()\n",
    "\n",
    "    publication_title = Field()\n",
    "\n",
    "\n",
    "class KeywordItem(Item):\n",
    "    keyword = Field()\n",
    "\n",
    "    title = Field()\n",
    "\n",
    "\n",
    "class SourceItem(Item):\n",
    "    publication_title = Field()\n",
    "    chief_editor = Field()\n",
    "    issn = Field()\n",
    "    description = Field()\n",
    "    home_url = Field()\n",
    "    coverimage = Field()\n",
    "\n",
    "    title = Field()\n",
    "\n",
    "class AuthorItem(Item):\n",
    "    institution = Field()\n",
    "    email = Field()\n",
    "    avatar = Field()\n",
    "    vitae = Field()\n",
    "    fname = Field()\n",
    "    lname = Field()\n",
    "    address = Field()\n",
    "\n",
    "    title = Field()"
   ]
  },
  {
   "cell_type": "markdown",
   "metadata": {},
   "source": [
    "# 1.Structure\n",
    "\n",
    "`UPDATE: 2017.6.25 00:39`"
   ]
  },
  {
   "cell_type": "code",
   "execution_count": 9,
   "metadata": {
    "collapsed": false
   },
   "outputs": [
    {
     "data": {
      "text/plain": [
       "['2010',\n",
       " '2000',\n",
       " '1990',\n",
       " '1980',\n",
       " '1970',\n",
       " '1960',\n",
       " '1950',\n",
       " '1940',\n",
       " '1930',\n",
       " '1920',\n",
       " '1910']"
      ]
     },
     "execution_count": 9,
     "metadata": {},
     "output_type": "execute_result"
    }
   ],
   "source": [
    "response.xpath('.//dl[@class=\"accordion\"]/@data-decade').extract()"
   ]
  },
  {
   "cell_type": "code",
   "execution_count": 10,
   "metadata": {
    "collapsed": false
   },
   "outputs": [
    {
     "data": {
      "text/plain": [
       "'https://www.jstor.org/journal/acadmanaj?decade=1990'"
      ]
     },
     "execution_count": 10,
     "metadata": {},
     "output_type": "execute_result"
    }
   ],
   "source": [
    "'https://www.jstor.org/journal/acadmanaj?decade=1990'"
   ]
  },
  {
   "cell_type": "code",
   "execution_count": 11,
   "metadata": {
    "collapsed": true
   },
   "outputs": [],
   "source": [
    "base_url = 'https://www.jstor.org/journal/amereconrevi'"
   ]
  },
  {
   "cell_type": "code",
   "execution_count": 12,
   "metadata": {
    "collapsed": false
   },
   "outputs": [
    {
     "data": {
      "text/plain": [
       "'https://www.jstor.org/journal/amereconrevi'"
      ]
     },
     "execution_count": 12,
     "metadata": {},
     "output_type": "execute_result"
    }
   ],
   "source": [
    "base_url"
   ]
  },
  {
   "cell_type": "code",
   "execution_count": 13,
   "metadata": {
    "collapsed": false
   },
   "outputs": [
    {
     "data": {
      "text/plain": [
       "['https://www.jstor.org/journal/amereconrevi?decade=2010',\n",
       " 'https://www.jstor.org/journal/amereconrevi?decade=2000',\n",
       " 'https://www.jstor.org/journal/amereconrevi?decade=1990',\n",
       " 'https://www.jstor.org/journal/amereconrevi?decade=1980',\n",
       " 'https://www.jstor.org/journal/amereconrevi?decade=1970',\n",
       " 'https://www.jstor.org/journal/amereconrevi?decade=1960',\n",
       " 'https://www.jstor.org/journal/amereconrevi?decade=1950',\n",
       " 'https://www.jstor.org/journal/amereconrevi?decade=1940',\n",
       " 'https://www.jstor.org/journal/amereconrevi?decade=1930',\n",
       " 'https://www.jstor.org/journal/amereconrevi?decade=1920',\n",
       " 'https://www.jstor.org/journal/amereconrevi?decade=1910']"
      ]
     },
     "execution_count": 13,
     "metadata": {},
     "output_type": "execute_result"
    }
   ],
   "source": [
    "[ base_url + '?decade=' + i for i in response.xpath('.//dl[@class=\"accordion\"]/@data-decade').extract()]"
   ]
  },
  {
   "cell_type": "code",
   "execution_count": 14,
   "metadata": {
    "collapsed": false
   },
   "outputs": [
    {
     "data": {
      "text/plain": [
       "'https://www.jstor.org/stable/i302974'"
      ]
     },
     "execution_count": 14,
     "metadata": {},
     "output_type": "execute_result"
    }
   ],
   "source": [
    "'https://www.jstor.org/stable/i302974'"
   ]
  },
  {
   "cell_type": "code",
   "execution_count": 15,
   "metadata": {
    "collapsed": true
   },
   "outputs": [],
   "source": [
    "jstor_url = 'https://www.jstor.org'"
   ]
  },
  {
   "cell_type": "code",
   "execution_count": 16,
   "metadata": {
    "collapsed": false
   },
   "outputs": [
    {
     "data": {
      "text/plain": [
       "['https://www.jstor.org/stable/10.2307/i40138656',\n",
       " 'https://www.jstor.org/stable/10.2307/i40138655',\n",
       " 'https://www.jstor.org/stable/10.2307/i40138653',\n",
       " 'https://www.jstor.org/stable/10.2307/i40138654',\n",
       " 'https://www.jstor.org/stable/10.2307/i40112126',\n",
       " 'https://www.jstor.org/stable/10.2307/i40112125',\n",
       " 'https://www.jstor.org/stable/10.2307/i40112124',\n",
       " 'https://www.jstor.org/stable/10.2307/i40112127',\n",
       " 'https://www.jstor.org/stable/10.2307/i40112122',\n",
       " 'https://www.jstor.org/stable/10.2307/i40112121',\n",
       " 'https://www.jstor.org/stable/10.2307/i40112120',\n",
       " 'https://www.jstor.org/stable/10.2307/i40112119',\n",
       " 'https://www.jstor.org/stable/10.2307/i40112118',\n",
       " 'https://www.jstor.org/stable/10.2307/i40112117',\n",
       " 'https://www.jstor.org/stable/10.2307/i40112116',\n",
       " 'https://www.jstor.org/stable/10.2307/i23469611',\n",
       " 'https://www.jstor.org/stable/10.2307/i23469657',\n",
       " 'https://www.jstor.org/stable/10.2307/i23469610',\n",
       " 'https://www.jstor.org/stable/10.2307/i23469609',\n",
       " 'https://www.jstor.org/stable/10.2307/i40081094',\n",
       " 'https://www.jstor.org/stable/10.2307/i40081095',\n",
       " 'https://www.jstor.org/stable/10.2307/i40081093',\n",
       " 'https://www.jstor.org/stable/10.2307/i23245386',\n",
       " 'https://www.jstor.org/stable/10.2307/i23245416',\n",
       " 'https://www.jstor.org/stable/10.2307/i23245387',\n",
       " 'https://www.jstor.org/stable/10.2307/i40068561',\n",
       " 'https://www.jstor.org/stable/10.2307/i40068558',\n",
       " 'https://www.jstor.org/stable/10.2307/i23045594',\n",
       " 'https://www.jstor.org/stable/10.2307/i23045615',\n",
       " 'https://www.jstor.org/stable/10.2307/i23045837',\n",
       " 'https://www.jstor.org/stable/10.2307/i29783703',\n",
       " 'https://www.jstor.org/stable/10.2307/i29783677',\n",
       " 'https://www.jstor.org/stable/10.2307/i40046435',\n",
       " 'https://www.jstor.org/stable/10.2307/i40046434',\n",
       " 'https://www.jstor.org/stable/10.2307/i27871254',\n",
       " 'https://www.jstor.org/stable/10.2307/i27871223',\n",
       " 'https://www.jstor.org/stable/10.2307/i27804949',\n",
       " 'https://www.jstor.org/stable/10.2307/i27804918']"
      ]
     },
     "execution_count": 16,
     "metadata": {},
     "output_type": "execute_result"
    }
   ],
   "source": [
    "[jstor_url + i for i in response.xpath('.//li[@data-doi]/a/@href').extract()]"
   ]
  },
  {
   "cell_type": "code",
   "execution_count": 17,
   "metadata": {
    "collapsed": false
   },
   "outputs": [
    {
     "data": {
      "text/plain": [
       "<200 https://www.jstor.org/stable/i29780254>"
      ]
     },
     "execution_count": 17,
     "metadata": {},
     "output_type": "execute_result"
    }
   ],
   "source": [
    "r = requests.get('https://www.jstor.org/stable/10.2307/i29780254', \n",
    "                 headers = headers)\n",
    "\n",
    "response = TextResponse(r.url, body = r.text, encoding = 'utf-8')\n",
    "\n",
    "# there is a response we need to handle\n",
    "response"
   ]
  },
  {
   "cell_type": "code",
   "execution_count": 18,
   "metadata": {
    "collapsed": false
   },
   "outputs": [
    {
     "data": {
      "text/plain": [
       "['https://www.jstor.org/stable/29780255',\n",
       " 'https://www.jstor.org/stable/29780256',\n",
       " 'https://www.jstor.org/stable/29780257',\n",
       " 'https://www.jstor.org/stable/29780258',\n",
       " 'https://www.jstor.org/stable/29780259',\n",
       " 'https://www.jstor.org/stable/29780260',\n",
       " 'https://www.jstor.org/stable/29780261',\n",
       " 'https://www.jstor.org/stable/29780262',\n",
       " 'https://www.jstor.org/stable/29780263',\n",
       " 'https://www.jstor.org/stable/29780264',\n",
       " 'https://www.jstor.org/stable/29780265',\n",
       " 'https://www.jstor.org/stable/29780266',\n",
       " 'https://www.jstor.org/stable/29780267',\n",
       " 'https://www.jstor.org/stable/29780268',\n",
       " 'https://www.jstor.org/stable/29780269',\n",
       " 'https://www.jstor.org/stable/29780270']"
      ]
     },
     "execution_count": 18,
     "metadata": {},
     "output_type": "execute_result"
    }
   ],
   "source": [
    "[jstor_url + i for i in response.xpath('.//div[@class=\"media-body media-object-section main-section\"]/a/@href').extract()]"
   ]
  },
  {
   "cell_type": "code",
   "execution_count": 19,
   "metadata": {
    "collapsed": false
   },
   "outputs": [
    {
     "data": {
      "text/plain": [
       "<200 https://www.jstor.org/stable/10.1086/666616>"
      ]
     },
     "execution_count": 19,
     "metadata": {},
     "output_type": "execute_result"
    }
   ],
   "source": [
    "r = requests.get('https://www.jstor.org/stable/10.1086/666616', \n",
    "                 headers = headers)\n",
    "\n",
    "response = TextResponse(r.url, body = r.text, encoding = 'utf-8')\n",
    "# there is a response we need to handle\n",
    "response"
   ]
  },
  {
   "cell_type": "markdown",
   "metadata": {},
   "source": [
    "# 2.Document"
   ]
  },
  {
   "cell_type": "code",
   "execution_count": 20,
   "metadata": {
    "collapsed": true
   },
   "outputs": [],
   "source": [
    "document = dict(\n",
    "    title = './/h1[@class=\"title\"]/text()',\n",
    "    # submission_path, publication_date, page\n",
    "    meta = './/*[@class=\"src mbl\"]/text()',\n",
    "    abstract = './/*[@class=\"abstract1\"]/text()'\n",
    "    )"
   ]
  },
  {
   "cell_type": "code",
   "execution_count": 21,
   "metadata": {
    "collapsed": false
   },
   "outputs": [
    {
     "data": {
      "text/plain": [
       "['Although heterogeneity in consumption communities is pervasive, there is little understanding of its impact on communities. This study shows how heterogeneous communities operate and interact with the marketplace. Specifically, the authors draw on actor-network theory, conceptualizing community as a network of heterogeneous actors (i.e., individuals, institutions, and resources), and examine the interplay of these actors in a mainstream activity-based consumption community—the distance running community. Findings, derived from a multimethod investigation, show that communities can preserve continuity even when heterogeneity operates as a destabilizing force. Continuity preserves when community members depend on each other for social and economic resources: a dependency that promotes the use of frame alignment practices. These practices enable the community to (re)stabilize, reproduce, and reform over time. The authors also highlight the overlapping roles of consumers and producers and develop a dimensional characterization of communities that helps bridge prior research on brand communities, consumption subcultures, and consumer tribes.']"
      ]
     },
     "execution_count": 21,
     "metadata": {},
     "output_type": "execute_result"
    }
   ],
   "source": [
    "response.xpath(document['abstract']).extract()"
   ]
  },
  {
   "cell_type": "code",
   "execution_count": 17,
   "metadata": {
    "collapsed": false
   },
   "outputs": [
    {
     "data": {
      "text/plain": [
       "'When Differences Unite: Resource Dependence in Heterogeneous                    Consumption Communities'"
      ]
     },
     "execution_count": 17,
     "metadata": {},
     "output_type": "execute_result"
    }
   ],
   "source": [
    "response.xpath(document['title']).extract()[0].replace('\\n', '').strip()"
   ]
  },
  {
   "cell_type": "code",
   "execution_count": 18,
   "metadata": {
    "collapsed": false
   },
   "outputs": [
    {
     "data": {
      "text/plain": [
       "'Vol. 39, No. 5 (February 2013), pp. 1010-1033'"
      ]
     },
     "execution_count": 18,
     "metadata": {},
     "output_type": "execute_result"
    }
   ],
   "source": [
    "a = response.xpath(document['meta']).extract()[0].replace('\\n', '').strip()\n",
    "a"
   ]
  },
  {
   "cell_type": "code",
   "execution_count": 19,
   "metadata": {
    "collapsed": false
   },
   "outputs": [
    {
     "data": {
      "text/plain": [
       "[1010, 1033]"
      ]
     },
     "execution_count": 19,
     "metadata": {},
     "output_type": "execute_result"
    }
   ],
   "source": [
    "import re\n",
    "meta = re.split('[()]', response.xpath(document['meta']).extract()[0].replace('\\n', '').strip())\n",
    "pages = [ int(i) for i in meta[-1].split('pp.')[-1].split('-')]\n",
    "pages"
   ]
  },
  {
   "cell_type": "code",
   "execution_count": 20,
   "metadata": {
    "collapsed": true
   },
   "outputs": [],
   "source": [
    "from dateutil.parser import parse\n",
    "from scrapy.loader import ItemLoader\n",
    "from scrapy.loader.processors import Join, TakeFirst\n",
    "import re\n",
    "\n",
    "def load_document(response, document):\n",
    "    l = ItemLoader(item = DocumentItem(), response = response)\n",
    "    l.default_output_processor = TakeFirst()\n",
    "    \n",
    "    l.add_value('coverpage_url', response.url)\n",
    "    l.add_xpath('abstract', document['abstract'])\n",
    "    l.add_value('title', response.xpath(document['title']).extract()[0].replace('\\n', '').strip())\n",
    "    meta = re.split('[()]', response.xpath(document['meta']).extract()[0].replace('\\n', '').strip())\n",
    "    try:\n",
    "        l.add_value('submission_path', meta[0])\n",
    "    except:\n",
    "        pass\n",
    "    \n",
    "    try:\n",
    "        l.add_value('publication_date', parse(meta[1]))\n",
    "    except:\n",
    "        pass\n",
    "\n",
    "    # handle pages\n",
    "    try:\n",
    "        pages = [ int(i) for i in meta[-1].split('pp.')[-1].split('-')]\n",
    "        fp = pages[0]\n",
    "        lp = pages[-1]\n",
    "        l.add_value('fpage', fp)\n",
    "        l.add_value('lpage', lp)\n",
    "        l.add_value('pages', lp-fp+1)\n",
    "    except:\n",
    "        pass\n",
    "\n",
    "    # mark it down, with source's publication_title\n",
    "    return l"
   ]
  },
  {
   "cell_type": "code",
   "execution_count": 21,
   "metadata": {
    "collapsed": false
   },
   "outputs": [
    {
     "data": {
      "text/plain": [
       "{'abstract': 'Although heterogeneity in consumption communities is pervasive, '\n",
       "             'there is little understanding of its impact on communities. This '\n",
       "             'study shows how heterogeneous communities operate and interact '\n",
       "             'with the marketplace. Specifically, the authors draw on '\n",
       "             'actor-network theory, conceptualizing community as a network of '\n",
       "             'heterogeneous actors (i.e., individuals, institutions, and '\n",
       "             'resources), and examine the interplay of these actors in a '\n",
       "             'mainstream activity-based consumption community—the distance '\n",
       "             'running community. Findings, derived from a multimethod '\n",
       "             'investigation, show that communities can preserve continuity '\n",
       "             'even when heterogeneity operates as a destabilizing force. '\n",
       "             'Continuity preserves when community members depend on each other '\n",
       "             'for social and economic resources: a dependency that promotes '\n",
       "             'the use of frame alignment practices. These practices enable the '\n",
       "             'community to (re)stabilize, reproduce, and reform over time. The '\n",
       "             'authors also highlight the overlapping roles of consumers and '\n",
       "             'producers and develop a dimensional characterization of '\n",
       "             'communities that helps bridge prior research on brand '\n",
       "             'communities, consumption subcultures, and consumer tribes.',\n",
       " 'coverpage_url': 'https://www.jstor.org/stable/10.1086/666616',\n",
       " 'fpage': 1010,\n",
       " 'lpage': 1033,\n",
       " 'pages': 24,\n",
       " 'publication_date': datetime.datetime(2013, 2, 23, 0, 0),\n",
       " 'submission_path': 'Vol. 39, No. 5 ',\n",
       " 'title': 'When Differences Unite: Resource Dependence in '\n",
       "          'Heterogeneous                    Consumption Communities'}"
      ]
     },
     "execution_count": 21,
     "metadata": {},
     "output_type": "execute_result"
    }
   ],
   "source": [
    "l = load_document(response, document)\n",
    "l.load_item()"
   ]
  },
  {
   "cell_type": "markdown",
   "metadata": {},
   "source": [
    "# 3.Keyword"
   ]
  },
  {
   "cell_type": "code",
   "execution_count": 22,
   "metadata": {
    "collapsed": false
   },
   "outputs": [
    {
     "data": {
      "text/plain": [
       "['Communities',\n",
       " 'Academic communities',\n",
       " 'Economic resources',\n",
       " 'Community structure',\n",
       " 'Running',\n",
       " 'Consumer economics',\n",
       " 'Consumer research',\n",
       " 'Community associations',\n",
       " 'Brands',\n",
       " 'Community identity']"
      ]
     },
     "execution_count": 22,
     "metadata": {},
     "output_type": "execute_result"
    }
   ],
   "source": [
    "keyword = './/*[@class=\"topics mtl\"]/a/text()'\n",
    "\n",
    "response.xpath(keyword).extract()"
   ]
  },
  {
   "cell_type": "markdown",
   "metadata": {},
   "source": [
    "#  4.Author"
   ]
  },
  {
   "cell_type": "code",
   "execution_count": 23,
   "metadata": {
    "collapsed": false
   },
   "outputs": [
    {
     "data": {
      "text/plain": [
       "'Tandy Chalmers Thomas, Linda L. Price and Hope Jensen Schau'"
      ]
     },
     "execution_count": 23,
     "metadata": {},
     "output_type": "execute_result"
    }
   ],
   "source": [
    "author = dict(names = './/*[@class=\"contrib\"]/text()')\n",
    "\n",
    "string = response.xpath(author['names']).extract()[0].replace('\\n', '').strip()\n",
    "string"
   ]
  },
  {
   "cell_type": "code",
   "execution_count": 24,
   "metadata": {
    "collapsed": false
   },
   "outputs": [
    {
     "data": {
      "text/plain": [
       "['Tandy Chalmers Thomas', 'Linda L. Price', 'Hope Jensen Schau']"
      ]
     },
     "execution_count": 24,
     "metadata": {},
     "output_type": "execute_result"
    }
   ],
   "source": [
    "import re\n",
    "names = [str.strip(i) for i in string.replace(' and ', ', ').split(',')]\n",
    "names"
   ]
  },
  {
   "cell_type": "code",
   "execution_count": 25,
   "metadata": {
    "collapsed": false
   },
   "outputs": [
    {
     "data": {
      "text/plain": [
       "['Tandy', 'Chalmers', 'Thomas']"
      ]
     },
     "execution_count": 25,
     "metadata": {},
     "output_type": "execute_result"
    }
   ],
   "source": [
    "name = names[0].split()\n",
    "name"
   ]
  },
  {
   "cell_type": "code",
   "execution_count": 26,
   "metadata": {
    "collapsed": false
   },
   "outputs": [
    {
     "name": "stdout",
     "output_type": "stream",
     "text": [
      "{'fname': 'Tandy', 'lname': 'Thomas'}\n",
      "{'fname': 'Linda', 'lname': 'Price'}\n",
      "{'fname': 'Hope', 'lname': 'Schau'}\n"
     ]
    }
   ],
   "source": [
    "def load_author(response, author):\n",
    "    string = response.xpath(author['names']).extract()[0].replace('\\n', '').strip()\n",
    "    names = [str.strip(i) for i in string.replace(' and ', ', ').split(',')]\n",
    "    for name in names:\n",
    "        l = ItemLoader(item = AuthorItem(), response = response)\n",
    "        l.default_output_processor = TakeFirst()\n",
    "        # author's first name and last name\n",
    "        flname = name.split()\n",
    "        fn = flname[0]\n",
    "        ln = flname[-1]\n",
    "        l.add_value('fname', fn)\n",
    "        l.add_value('lname', ln)\n",
    "        yield l\n",
    "\n",
    "for i in list(load_author(response, author)):\n",
    "    print(i.load_item())"
   ]
  },
  {
   "cell_type": "markdown",
   "metadata": {},
   "source": [
    "# 5.Source\n",
    "\n",
    "`UPDATED: 2017.6.23 17:16`"
   ]
  },
  {
   "cell_type": "code",
   "execution_count": 22,
   "metadata": {
    "collapsed": false
   },
   "outputs": [
    {
     "data": {
      "text/plain": [
       "<200 https://www.jstor.org/journal/jconsrese>"
      ]
     },
     "execution_count": 22,
     "metadata": {},
     "output_type": "execute_result"
    }
   ],
   "source": [
    "r = requests.get('https://www.jstor.org/journal/jconsrese', \n",
    "                 headers = headers)\n",
    "\n",
    "response = TextResponse(r.url, body = r.text, encoding = 'utf-8')\n",
    "# there is a response we need to handle\n",
    "response"
   ]
  },
  {
   "cell_type": "code",
   "execution_count": 23,
   "metadata": {
    "collapsed": false
   },
   "outputs": [
    {
     "data": {
      "text/plain": [
       "'/journal/jconsrese?item_view=journal_info'"
      ]
     },
     "execution_count": 23,
     "metadata": {},
     "output_type": "execute_result"
    }
   ],
   "source": [
    "response.xpath('.//*[@class=\"journal_info_button\"]/a/@href').extract()[0]"
   ]
  },
  {
   "cell_type": "code",
   "execution_count": 24,
   "metadata": {
    "collapsed": false
   },
   "outputs": [
    {
     "data": {
      "text/plain": [
       "'https://www.jstor.org/journal/jconsrese?item_view=journal_info'"
      ]
     },
     "execution_count": 24,
     "metadata": {},
     "output_type": "execute_result"
    }
   ],
   "source": [
    "jstor_url = 'https://www.jstor.org'\n",
    "jstor_url + response.xpath('.//*[@class=\"journal_info_button\"]/a/@href').extract()[0]"
   ]
  },
  {
   "cell_type": "code",
   "execution_count": 25,
   "metadata": {
    "collapsed": false
   },
   "outputs": [
    {
     "data": {
      "text/plain": [
       "<200 https://www.jstor.org/journal/acadmanaj?item_view=journal_info>"
      ]
     },
     "execution_count": 25,
     "metadata": {},
     "output_type": "execute_result"
    }
   ],
   "source": [
    "r = requests.get('https://www.jstor.org/journal/acadmanaj?item_view=journal_info', \n",
    "                 headers = headers)\n",
    "\n",
    "response = TextResponse(r.url, body = r.text, encoding = 'utf-8')\n",
    "# there is a response we need to handle\n",
    "response"
   ]
  },
  {
   "cell_type": "code",
   "execution_count": 26,
   "metadata": {
    "collapsed": false
   },
   "outputs": [],
   "source": [
    "source = dict(\n",
    "    issn = '//div[@class=\"issn mtm\"]/text()',\n",
    "    publication_title = './/div[@class=\"journal lookslikeh2 drop-content-title\"]/text()',\n",
    "    description = './/div[@class=\"journal_description mtm\"]',\n",
    "    subjects = './/div[@class=\"subjects mtm\"]',\n",
    "    collections = './/div[@class=\"collections mtm\"]',\n",
    "    coverimage = './/img[@class=\"cover\"]/@src'\n",
    "    )"
   ]
  },
  {
   "cell_type": "code",
   "execution_count": 27,
   "metadata": {
    "collapsed": false
   },
   "outputs": [],
   "source": [
    "def _get_descrip(key, response, source):\n",
    "    ''' Inner Function '''  \n",
    "    try:\n",
    "        a =response.xpath(source[key])[0].extract()\n",
    "        b = cleanhtml(a).replace('  ','').replace(\"&amp\", '') \n",
    "    except:\n",
    "        b  = ''\n",
    "    value = b.replace('\\n','')\n",
    "    return value\n",
    "    "
   ]
  },
  {
   "cell_type": "code",
   "execution_count": 28,
   "metadata": {
    "collapsed": false
   },
   "outputs": [
    {
     "data": {
      "text/plain": [
       "'Description: The Academy of Management Journal presents cutting edge research that provides readers with a forecast for new management thoughts and techniques. All articles published in the journal must make a strong empirical and/or theoretical contribution. All empirical methods including (but not limited to) qualitative, quantitative, or combination methods are represented. Articles published in the journal are clearly relevant to management theory and practice and identify both a compelling practical management issue and a strong theoretical framework for addressing it. For more than 40 years the journal has been recognized as indispensable reading for management scholars. The journal has been cited in such forums as The Wall Street Journal, The New York Times, The Economist and The Washington Post. The journal is published six times per year with a circulation of 15,000.'"
      ]
     },
     "execution_count": 28,
     "metadata": {},
     "output_type": "execute_result"
    }
   ],
   "source": [
    "_get_descrip('description', response, source)"
   ]
  },
  {
   "cell_type": "code",
   "execution_count": 29,
   "metadata": {
    "collapsed": false
   },
   "outputs": [
    {
     "data": {
      "text/plain": [
       "'Description: The Academy of Management Journal presents cutting edge research that provides readers with a forecast for new management thoughts and techniques. All articles published in the journal must make a strong empirical and/or theoretical contribution. All empirical methods including (but not limited to) qualitative, quantitative, or combination methods are represented. Articles published in the journal are clearly relevant to management theory and practice and identify both a compelling practical management issue and a strong theoretical framework for addressing it. For more than 40 years the journal has been recognized as indispensable reading for management scholars. The journal has been cited in such forums as The Wall Street Journal, The New York Times, The Economist and The Washington Post. The journal is published six times per year with a circulation of 15,000. Subjects: Business,Business ; Economics,Management ; Organizational Behavior,Social Sciences,Sociology Collections:Arts ; Sciences IV Collection,Business ; Economics Collection,Business I Collection,JSTOR Essential Collection'"
      ]
     },
     "execution_count": 29,
     "metadata": {},
     "output_type": "execute_result"
    }
   ],
   "source": [
    "description = \" \".join([ _get_descrip(j, response, source) for j in ['description', 'subjects', 'collections']])\n",
    "description"
   ]
  },
  {
   "cell_type": "code",
   "execution_count": 30,
   "metadata": {
    "collapsed": false
   },
   "outputs": [
    {
     "data": {
      "text/plain": [
       "'00014273'"
      ]
     },
     "execution_count": 30,
     "metadata": {},
     "output_type": "execute_result"
    }
   ],
   "source": [
    "response.xpath(source['issn']).extract()[0].strip()"
   ]
  },
  {
   "cell_type": "code",
   "execution_count": 31,
   "metadata": {
    "collapsed": true
   },
   "outputs": [],
   "source": [
    "from scrapy.loader.processors import Join, TakeFirst\n",
    "from scrapy.loader import ItemLoader\n",
    "\n",
    "def _get_descrip(key, response, source):\n",
    "    ''' Inner Function '''  \n",
    "    try:\n",
    "        a =response.xpath(source[key])[0].extract()\n",
    "        b = cleanhtml(a).replace('  ','').replace(\"&amp\", '') \n",
    "    except:\n",
    "        b  = ''\n",
    "    value = b.replace('\\n','')\n",
    "    return value\n",
    "\n",
    "def load_source(response, source):\n",
    "    l = ItemLoader(item = SourceItem(), response = response)\n",
    "    l.default_output_processor = TakeFirst()\n",
    "    l.add_xpath(\"issn\", source['issn'])\n",
    "    l.add_xpath('publication_title', source['publication_title'])\n",
    "    description = \" \".join([ _get_descrip(j, response, source) for j in ['description', 'subjects', 'collections']])\n",
    "    l.add_value('description', description)\n",
    "    l.add_value('home_url', response.url)\n",
    "    # l.add_xpath('coverimage', response.meta.get('coverimage'))\n",
    "    return l"
   ]
  },
  {
   "cell_type": "code",
   "execution_count": 32,
   "metadata": {
    "collapsed": false
   },
   "outputs": [
    {
     "data": {
      "text/plain": [
       "{'description': 'Description: The Academy of Management Journal presents '\n",
       "                'cutting edge research that provides readers with a forecast '\n",
       "                'for new management thoughts and techniques. All articles '\n",
       "                'published in the journal must make a strong empirical and/or '\n",
       "                'theoretical contribution. All empirical methods including '\n",
       "                '(but not limited to) qualitative, quantitative, or '\n",
       "                'combination methods are represented. Articles published in '\n",
       "                'the journal are clearly relevant to management theory and '\n",
       "                'practice and identify both a compelling practical management '\n",
       "                'issue and a strong theoretical framework for addressing it. '\n",
       "                'For more than 40 years the journal has been recognized as '\n",
       "                'indispensable reading for management scholars. The journal '\n",
       "                'has been cited in such forums as The Wall Street Journal, The '\n",
       "                'New York Times, The Economist and The Washington Post. The '\n",
       "                'journal is published six times per year with a circulation of '\n",
       "                '15,000. Subjects: Business,Business ; Economics,Management ; '\n",
       "                'Organizational Behavior,Social Sciences,Sociology '\n",
       "                'Collections:Arts ; Sciences IV Collection,Business ; '\n",
       "                'Economics Collection,Business I Collection,JSTOR Essential '\n",
       "                'Collection',\n",
       " 'home_url': 'https://www.jstor.org/journal/acadmanaj?item_view=journal_info',\n",
       " 'issn': ' 00014273',\n",
       " 'publication_title': 'The Academy of Management Journal'}"
      ]
     },
     "execution_count": 32,
     "metadata": {},
     "output_type": "execute_result"
    }
   ],
   "source": [
    "l = load_source(response, source)\n",
    "l.load_item()"
   ]
  },
  {
   "cell_type": "code",
   "execution_count": 19,
   "metadata": {
    "collapsed": false
   },
   "outputs": [
    {
     "data": {
      "text/plain": [
       "'efasdfsdfadsfas'"
      ]
     },
     "execution_count": 19,
     "metadata": {},
     "output_type": "execute_result"
    }
   ],
   "source": [
    "s = 'efasdfsdfadsfas'\n",
    "s[:100]"
   ]
  },
  {
   "cell_type": "code",
   "execution_count": null,
   "metadata": {
    "collapsed": true
   },
   "outputs": [],
   "source": []
  }
 ],
 "metadata": {
  "anaconda-cloud": {},
  "kernelspec": {
   "display_name": "Python [default]",
   "language": "python",
   "name": "python3"
  },
  "language_info": {
   "codemirror_mode": {
    "name": "ipython",
    "version": 3
   },
   "file_extension": ".py",
   "mimetype": "text/x-python",
   "name": "python",
   "nbconvert_exporter": "python",
   "pygments_lexer": "ipython3",
   "version": "3.5.2"
  }
 },
 "nbformat": 4,
 "nbformat_minor": 1
}
