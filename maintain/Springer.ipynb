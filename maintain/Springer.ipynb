{
 "cells": [
  {
   "cell_type": "code",
   "execution_count": 1,
   "metadata": {
    "collapsed": false
   },
   "outputs": [
    {
     "data": {
      "text/plain": [
       "<200 https://rd.springer.com/journal/10551>"
      ]
     },
     "execution_count": 1,
     "metadata": {},
     "output_type": "execute_result"
    }
   ],
   "source": [
    "# we need headers to disguise our bot as a browser\n",
    "\n",
    "headers = {\n",
    "    \"Connection\": \"keep-alive\",\n",
    "    \"Cache-Control\": \"max-age=0\",\n",
    "    \"Accept\": \"text/html,application/xhtml+xml,application/xml;q=0.9,image/webp,*/*;q=0.8\",\n",
    "    \"User-Agent\": \"Mozilla/5.0 (Windows NT 6.1; WOW64) AppleWebKit/537.36 (KHTML, like Gecko) Chrome/34.0.1847.131 Safari/537.36\",\n",
    "    \"Accept-Encoding\": \"gzip,deflate,sdch\",\n",
    "    \"Accept-Language\": \"zh-CN,zh;q=0.8,en-US;q=0.6,en;q=0.4,zh-TW;q=0.2\",\n",
    "}\n",
    "\n",
    "import requests\n",
    "from scrapy.http import TextResponse\n",
    "\n",
    "r = requests.get('https://rd.springer.com/journal/10551', \n",
    "                 headers = headers)\n",
    "\n",
    "response = TextResponse(r.url, body = r.text, encoding = 'utf-8')\n",
    "\n",
    "# there is a response we need to handle\n",
    "response"
   ]
  },
  {
   "cell_type": "code",
   "execution_count": 9,
   "metadata": {
    "collapsed": false
   },
   "outputs": [
    {
     "data": {
      "text/plain": [
       "<200 https://rd.springer.com/journal/10551/volume/10/toc>"
      ]
     },
     "execution_count": 9,
     "metadata": {},
     "output_type": "execute_result"
    }
   ],
   "source": [
    "volume_url = 'https://rd.springer.com/journal/10551/volume/%d/toc' %10\n",
    "\n",
    "\n",
    "r = requests.get(volume_url, \n",
    "                 headers = headers)\n",
    "\n",
    "response = TextResponse(r.url, body = r.text, encoding = 'utf-8')\n",
    "\n",
    "# there is a response we need to handle\n",
    "response"
   ]
  },
  {
   "cell_type": "code",
   "execution_count": 31,
   "metadata": {
    "collapsed": false
   },
   "outputs": [
    {
     "data": {
      "text/plain": [
       "['https://rd.springer.com/journal/10551/10/12/page/1',\n",
       " 'https://rd.springer.com/journal/10551/10/11/page/1',\n",
       " 'https://rd.springer.com/journal/10551/10/10/page/1',\n",
       " 'https://rd.springer.com/journal/10551/10/9/page/1',\n",
       " 'https://rd.springer.com/journal/10551/10/8/page/1',\n",
       " 'https://rd.springer.com/journal/10551/10/7/page/1',\n",
       " 'https://rd.springer.com/journal/10551/10/6/page/1',\n",
       " 'https://rd.springer.com/journal/10551/10/5/page/1',\n",
       " 'https://rd.springer.com/journal/10551/10/4/page/1',\n",
       " 'https://rd.springer.com/journal/10551/10/3/page/1',\n",
       " 'https://rd.springer.com/journal/10551/10/2/page/1',\n",
       " 'https://rd.springer.com/journal/10551/10/1/page/1']"
      ]
     },
     "execution_count": 31,
     "metadata": {},
     "output_type": "execute_result"
    }
   ],
   "source": [
    "base_url = 'https://rd.springer.com'\n",
    "issue = './/a[@class=\"title\"]/@href'\n",
    "issue_urls = [base_url + i for i in response.xpath(issue).extract()]\n",
    "issue_urls"
   ]
  },
  {
   "cell_type": "code",
   "execution_count": 33,
   "metadata": {
    "collapsed": false
   },
   "outputs": [
    {
     "data": {
      "text/plain": [
       "<200 https://rd.springer.com/journal/10551/10/5/page/1>"
      ]
     },
     "execution_count": 33,
     "metadata": {},
     "output_type": "execute_result"
    }
   ],
   "source": [
    "issue_url = 'https://rd.springer.com/journal/10551/10/5/page/1'\n",
    "r = requests.get(issue_url, \n",
    "                 headers = headers)\n",
    "\n",
    "response = TextResponse(r.url, body = r.text, encoding = 'utf-8')\n",
    "\n",
    "# there is a response we need to handle\n",
    "response"
   ]
  },
  {
   "cell_type": "code",
   "execution_count": 47,
   "metadata": {
    "collapsed": false
   },
   "outputs": [
    {
     "data": {
      "text/plain": [
       "['https://rd.springer.com/article/10.1007/BF00383232',\n",
       " 'https://rd.springer.com/article/10.1007/BF00383233',\n",
       " 'https://rd.springer.com/article/10.1007/BF00383234',\n",
       " 'https://rd.springer.com/article/10.1007/BF00383235',\n",
       " 'https://rd.springer.com/article/10.1007/BF00383236',\n",
       " 'https://rd.springer.com/article/10.1007/BF00383237',\n",
       " 'https://rd.springer.com/article/10.1007/BF00383238',\n",
       " 'https://rd.springer.com/article/10.1007/BF00383239',\n",
       " 'https://rd.springer.com/article/10.1007/BF00383240',\n",
       " 'https://rd.springer.com/article/10.1007/BF00383241',\n",
       " 'https://rd.springer.com/article/10.1007/BF00383242']"
      ]
     },
     "execution_count": 47,
     "metadata": {},
     "output_type": "execute_result"
    }
   ],
   "source": [
    "axpath = './/h3//a/@href'\n",
    "article_urls = [ base_url + i for i in response.xpath(axpath).extract()]\n",
    "article_urls"
   ]
  },
  {
   "cell_type": "code",
   "execution_count": null,
   "metadata": {
    "collapsed": true
   },
   "outputs": [],
   "source": []
  },
  {
   "cell_type": "code",
   "execution_count": 7,
   "metadata": {
    "collapsed": false
   },
   "outputs": [
    {
     "data": {
      "text/plain": [
       "<200 https://rd.springer.com/article/10.1007/s10551-015-2664-7>"
      ]
     },
     "execution_count": 7,
     "metadata": {},
     "output_type": "execute_result"
    }
   ],
   "source": [
    "# we need headers to disguise our bot as a browser\n",
    "\n",
    "headers = {\n",
    "    \"Connection\": \"keep-alive\",\n",
    "    \"Cache-Control\": \"max-age=0\",\n",
    "    \"Accept\": \"text/html,application/xhtml+xml,application/xml;q=0.9,image/webp,*/*;q=0.8\",\n",
    "    \"User-Agent\": \"Mozilla/5.0 (Windows NT 6.1; WOW64) AppleWebKit/537.36 (KHTML, like Gecko) Chrome/34.0.1847.131 Safari/537.36\",\n",
    "    \"Accept-Encoding\": \"gzip,deflate,sdch\",\n",
    "    \"Accept-Language\": \"zh-CN,zh;q=0.8,en-US;q=0.6,en;q=0.4,zh-TW;q=0.2\",\n",
    "}\n",
    "\n",
    "import requests\n",
    "from scrapy.http import TextResponse\n",
    "\n",
    "r = requests.get('https://rd.springer.com/article/10.1007/s10551-015-2664-7', \n",
    "                 headers = headers)\n",
    "\n",
    "response = TextResponse(r.url, body = r.text, encoding = 'utf-8')\n",
    "\n",
    "# there is a response we need to handle\n",
    "response"
   ]
  },
  {
   "cell_type": "code",
   "execution_count": 1,
   "metadata": {
    "collapsed": true
   },
   "outputs": [],
   "source": [
    "# -*- coding: utf-8 -*-\n",
    "\n",
    "# Define here the models for your scraped items\n",
    "#\n",
    "# See documentation in:\n",
    "# http://doc.scrapy.org/en/latest/topics/items.html\n",
    "\n",
    "from scrapy import Item, Field\n",
    "\n",
    "\n",
    "class DocumentItem(Item):\n",
    "    # define the fields for your item here like:\n",
    "    # name = scrapy.Field()\n",
    "    abstract = Field()\n",
    "\n",
    "    publication_date = Field()\n",
    "    submission_date = Field()\n",
    "    online_date = Field()\n",
    "    revision_date = Field()\n",
    "    accepted_date = Field()\n",
    "\n",
    "    title = Field()\n",
    "    coverpage_url = Field()\n",
    "    fpage = Field()\n",
    "    lpage = Field()\n",
    "    pages = Field()\n",
    "    submission_path = Field()\n",
    "\n",
    "    publication_title = Field()\n",
    "\n",
    "\n",
    "class KeywordItem(Item):\n",
    "    keyword = Field()\n",
    "\n",
    "    title = Field()\n",
    "\n",
    "\n",
    "class SourceItem(Item):\n",
    "    publication_title = Field()\n",
    "    chief_editor = Field()\n",
    "    issn = Field()\n",
    "    description = Field()\n",
    "    home_url = Field()\n",
    "    coverimage = Field()\n",
    "\n",
    "    title = Field()\n",
    "\n",
    "class AuthorItem(Item):\n",
    "    institution = Field()\n",
    "    email = Field()\n",
    "    avatar = Field()\n",
    "    vitae = Field()\n",
    "    fname = Field()\n",
    "    lname = Field()\n",
    "    address = Field()\n",
    "\n",
    "    title = Field()"
   ]
  },
  {
   "cell_type": "code",
   "execution_count": 262,
   "metadata": {
    "collapsed": false
   },
   "outputs": [],
   "source": [
    "# paper\n",
    "document = dict(\n",
    "    title = './/h1[@class=\"ArticleTitle\"]/text()',\n",
    "    abstract = './/p[@id=\"Par1\"]/text()',\n",
    "    online_date = './/dd[@class=/a[@class=\"gtm-first-online\"]/text()',\n",
    "    meta = './/p[@class=\"icon--meta-keyline-before\"]/*/text()',\n",
    "    publication_date = './/p[@class=\"icon--meta-keyline-before\"]/span/time/@datetime'\n",
    "    )\n"
   ]
  },
  {
   "cell_type": "code",
   "execution_count": 38,
   "metadata": {
    "collapsed": false
   },
   "outputs": [
    {
     "data": {
      "text/plain": [
       "['2017-02']"
      ]
     },
     "execution_count": 38,
     "metadata": {},
     "output_type": "execute_result"
    }
   ],
   "source": [
    "l.get_xpath(document['publication_date'])"
   ]
  },
  {
   "cell_type": "code",
   "execution_count": 29,
   "metadata": {
    "collapsed": false
   },
   "outputs": [
    {
     "data": {
      "text/plain": [
       "'Volume 140, Issue\\xa03'"
      ]
     },
     "execution_count": 29,
     "metadata": {},
     "output_type": "execute_result"
    }
   ],
   "source": [
    "from dateutil.parser import parse\n",
    "from scrapy.loader import ItemLoader\n",
    "from scrapy.loader.processors import Join, TakeFirst\n",
    "\n",
    "l = ItemLoader(item = DocumentItem(), response = response)\n",
    "l.default_output_processor = TakeFirst()\n",
    "\n",
    "\n",
    "meta = l.get_xpath(document['meta'])\n",
    "\n",
    "submission_path = meta[1] + meta[2]\n",
    "submission_path"
   ]
  },
  {
   "cell_type": "code",
   "execution_count": 52,
   "metadata": {
    "collapsed": false
   },
   "outputs": [],
   "source": [
    "from dateutil.parser import parse\n",
    "from scrapy.loader import ItemLoader\n",
    "from scrapy.loader.processors import Join, TakeFirst\n",
    "\n",
    "def load_document(response, document):\n",
    "    l = ItemLoader(item = DocumentItem(), response = response)\n",
    "    l.default_output_processor = TakeFirst()\n",
    "    \n",
    "    l.add_value('coverpage_url', response.url)\n",
    "    l.add_xpath('abstract', document['abstract'])\n",
    "    l.add_xpath('title', document['title'])\n",
    "    try:\n",
    "        meta = l.get_xpath(document['meta'])\n",
    "        l.add_value('submission_path', meta[1] + meta[2])\n",
    "        pages = meta[-1].split(' ')[-1]\n",
    "        if '–' in pages:\n",
    "            fp = int(pages.split('–')[0])\n",
    "            lp = int(pages.split('–')[1])\n",
    "        elif '-' in pages:\n",
    "            fp = int(pages.split('-')[0])\n",
    "            lp = int(pages.split('-')[1])\n",
    "        l.add_value('fpage', fp)\n",
    "        l.add_value('lpage', lp)\n",
    "        l.add_value('pages', lp-fp+1)\n",
    "    except:\n",
    "        pass\n",
    "    \n",
    "    l.add_value('publication_date', parse(response.xpath(document['publication_date']).extract()[0]))\n",
    "\n",
    "    # mark it down, with source's publication_title\n",
    "    return l"
   ]
  },
  {
   "cell_type": "code",
   "execution_count": 53,
   "metadata": {
    "collapsed": false
   },
   "outputs": [
    {
     "data": {
      "text/plain": [
       "{'abstract': 'This study explores the relationship between board environmental '\n",
       "             'committees and corporate environmental performance (CEP). We '\n",
       "             'propose that board environmental committees will be positively '\n",
       "             'associated with CEP. Moreover, we argue that the composition of '\n",
       "             'the committee (i.e., stakeholder representation) as well as the '\n",
       "             'presence of a sustainability manager will influence this '\n",
       "             'relationship. Our results find support for a positive '\n",
       "             'association between board environmental committees and CEP. '\n",
       "             'Further, the presence of a senior-level environmental manager '\n",
       "             'positively moderates this relationship, but is not effective in '\n",
       "             'isolation. Unexpectedly, no support was found for the influences '\n",
       "             'of stakeholder representation.',\n",
       " 'coverpage_url': 'https://rd.springer.com/article/10.1007/s10551-015-2664-7',\n",
       " 'fpage': 423,\n",
       " 'lpage': 438,\n",
       " 'pages': 16,\n",
       " 'publication_date': datetime.datetime(2017, 2, 5, 0, 0),\n",
       " 'submission_path': 'Volume 140, Issue\\xa03',\n",
       " 'title': 'The Role of Board Environmental Committees in Corporate '\n",
       "          'Environmental Performance'}"
      ]
     },
     "execution_count": 53,
     "metadata": {},
     "output_type": "execute_result"
    }
   ],
   "source": [
    "l = load_document(response, document)\n",
    "l.load_item()"
   ]
  },
  {
   "cell_type": "markdown",
   "metadata": {},
   "source": [
    "### keywords"
   ]
  },
  {
   "cell_type": "code",
   "execution_count": 267,
   "metadata": {
    "collapsed": true
   },
   "outputs": [],
   "source": [
    "keyword = './/span[@class=\"Keyword\"]/text()'"
   ]
  },
  {
   "cell_type": "code",
   "execution_count": 268,
   "metadata": {
    "collapsed": false
   },
   "outputs": [
    {
     "data": {
      "text/plain": [
       "['Corporate environmental performance ',\n",
       " 'Environmental governance ',\n",
       " 'Board committees ',\n",
       " 'Sustainability manager ']"
      ]
     },
     "execution_count": 268,
     "metadata": {},
     "output_type": "execute_result"
    }
   ],
   "source": [
    "[ normalize('NFKD', i)  for i in response.xpath(keyword).extract()]"
   ]
  },
  {
   "cell_type": "markdown",
   "metadata": {
    "collapsed": false
   },
   "source": [
    "### author"
   ]
  },
  {
   "cell_type": "code",
   "execution_count": 233,
   "metadata": {
    "collapsed": false
   },
   "outputs": [],
   "source": [
    "author = dict(\n",
    "    auths = './/ul[@class=\"test-contributor-names\"]',\n",
    "    auth = './li',\n",
    "    name = './/span[@class=\"authors-affiliations__name\"]/text()',\n",
    "    email = './/a[@class=\"gtm-email-author\"]/@title',\n",
    "    affil_id = './/li[@data-affiliation]/@data-affiliation',\n",
    "    affiliation = './/*[@id=\"%s\"]',\n",
    "    department = './/*[@class=\"affiliation__department\"]/text()',\n",
    "    university = './/*[@class=\"affiliation__name\"]/text()',\n",
    "    city = './/*[@class=\"affiliation__city\"]/text()',\n",
    "    country = './/*[@class=\"affiliation__country\"]/text()'\n",
    "    )\n"
   ]
  },
  {
   "cell_type": "code",
   "execution_count": 234,
   "metadata": {
    "collapsed": false
   },
   "outputs": [
    {
     "data": {
      "text/plain": [
       "<Selector xpath='.//ul[@class=\"test-contributor-names\"]' data='<ul class=\"test-contributor-names\"><li><'>"
      ]
     },
     "execution_count": 234,
     "metadata": {},
     "output_type": "execute_result"
    }
   ],
   "source": [
    "auths = response.xpath(author['auths'])[-1]\n",
    "auths"
   ]
  },
  {
   "cell_type": "code",
   "execution_count": 235,
   "metadata": {
    "collapsed": false
   },
   "outputs": [
    {
     "data": {
      "text/plain": [
       "['<li><span itemprop=\"name\" class=\"authors-affiliations__name\">Heather\\xa0R.\\xa0Dixon-Fowler</span><ul class=\"authors-affiliations__indexes u-inline-list\" data-role=\"AuthorsIndexes\"><li data-affiliation=\"#affiliation-1\">1</li></ul><span class=\"author-information\"><span class=\"author-information__contact u-icon-before icon--email-before\"><a href=\"mailto:dixonfowlerh@appstate.edu\" title=\"dixonfowlerh@appstate.edu\" itemprop=\"email\" class=\"gtm-email-author\">Email author</a></span></span></li>',\n",
       " '<li><span itemprop=\"name\" class=\"authors-affiliations__name\">Alan\\xa0E.\\xa0Ellstrand</span><ul class=\"authors-affiliations__indexes u-inline-list\" data-role=\"AuthorsIndexes\"><li data-affiliation=\"#affiliation-2\">2</li></ul></li>',\n",
       " '<li><span itemprop=\"name\" class=\"authors-affiliations__name\">Jonathan\\xa0L.\\xa0Johnson</span><ul class=\"authors-affiliations__indexes u-inline-list\" data-role=\"AuthorsIndexes\"><li data-affiliation=\"#affiliation-3\">3</li></ul></li>']"
      ]
     },
     "execution_count": 235,
     "metadata": {},
     "output_type": "execute_result"
    }
   ],
   "source": [
    "auths.xpath(author['auth']).extract()"
   ]
  },
  {
   "cell_type": "code",
   "execution_count": 236,
   "metadata": {
    "collapsed": false
   },
   "outputs": [
    {
     "data": {
      "text/plain": [
       "'<li><span itemprop=\"name\" class=\"authors-affiliations__name\">Heather\\xa0R.\\xa0Dixon-Fowler</span><ul class=\"authors-affiliations__indexes u-inline-list\" data-role=\"AuthorsIndexes\"><li data-affiliation=\"#affiliation-1\">1</li></ul><span class=\"author-information\"><span class=\"author-information__contact u-icon-before icon--email-before\"><a href=\"mailto:dixonfowlerh@appstate.edu\" title=\"dixonfowlerh@appstate.edu\" itemprop=\"email\" class=\"gtm-email-author\">Email author</a></span></span></li>'"
      ]
     },
     "execution_count": 236,
     "metadata": {},
     "output_type": "execute_result"
    }
   ],
   "source": [
    "auth = auths.xpath(author['auth'])[0]\n",
    "auth.extract()"
   ]
  },
  {
   "cell_type": "code",
   "execution_count": 259,
   "metadata": {
    "collapsed": true
   },
   "outputs": [],
   "source": [
    "from unicodedata import normalize\n",
    "\n",
    "def load_author(response, author):\n",
    "    auths = response.xpath(author['auths'])[-1]\n",
    "    for auth in auths.xpath(author['auth']):\n",
    "        l = ItemLoader(item = AuthorItem(), response = response)\n",
    "        l.default_output_processor = TakeFirst()\n",
    "\n",
    "        # author's first name and last name\n",
    "        try:\n",
    "            name = normalize('NFKD', auth.xpath(author['name']).extract()[0])\n",
    "            fn = name.split()[0]\n",
    "            ln = name.split()[-1]\n",
    "            l.add_value('fname', fn)\n",
    "            l.add_value('lname', ln)\n",
    "        except:\n",
    "            pass\n",
    "\n",
    "        # author's email\n",
    "        try:\n",
    "            email = auth.xpath(author['email']).extract()[0]\n",
    "            l.add_value('email', email)\n",
    "        except:\n",
    "            pass\n",
    "\n",
    "        # author's institution\n",
    "        try:\n",
    "            affil_id = auth.xpath(author['affil_id']).extract()[0][1:]\n",
    "            affiliation = response.xpath(author['affiliation'] %(affil_id))[0]\n",
    "            # department\n",
    "            department = affiliation.xpath(author['department']).extract()[0]\n",
    "            # university\n",
    "            university = affiliation.xpath(author['university']).extract()[0]\n",
    "            institution = department +' ' +  university\n",
    "            l.add_value('institution', institution)\n",
    "\n",
    "            # address\n",
    "            city = affiliation.xpath(author['city']).extract()[0]\n",
    "            country = affiliation.xpath(author['country']).extract()[0]\n",
    "            address = city + ' ' +  country\n",
    "            l.add_value('address', address)\n",
    "            \n",
    "        except:\n",
    "            pass\n",
    "        \n",
    "        yield l\n"
   ]
  },
  {
   "cell_type": "code",
   "execution_count": 260,
   "metadata": {
    "collapsed": false
   },
   "outputs": [
    {
     "name": "stdout",
     "output_type": "stream",
     "text": [
      "{'address': 'Boone USA',\n",
      " 'email': 'dixonfowlerh@appstate.edu',\n",
      " 'fname': 'Heather',\n",
      " 'institution': 'Department of Management, Walker College of Business '\n",
      "                'Appalachian State University',\n",
      " 'lname': 'Dixon-Fowler'}\n",
      "{'address': 'Fayetteville USA',\n",
      " 'fname': 'Alan',\n",
      " 'institution': 'Department of Management, Sam M. Walton College of Business '\n",
      "                'University of Arkansas',\n",
      " 'lname': 'Ellstrand'}\n",
      "{'address': 'Fayetteville USA',\n",
      " 'fname': 'Jonathan',\n",
      " 'institution': 'Department of Management, Sam M. Walton College of Business '\n",
      "                'University of Arkansas',\n",
      " 'lname': 'Johnson'}\n"
     ]
    }
   ],
   "source": [
    "l = list(load_author(response, author))\n",
    "for i in l:\n",
    "    print(i.load_item())"
   ]
  },
  {
   "cell_type": "code",
   "execution_count": 254,
   "metadata": {
    "collapsed": false
   },
   "outputs": [],
   "source": [
    "affilication = response.xpath('.//*[@id=\"affiliation-1\"]')\n",
    "affilication"
   ]
  },
  {
   "cell_type": "code",
   "execution_count": 210,
   "metadata": {
    "collapsed": false
   },
   "outputs": [
    {
     "data": {
      "text/plain": [
       "[<Selector xpath='.//li/*[@class=\"authors-affiliations__name\"]' data='<span itemprop=\"name\" class=\"authors-aff'>,\n",
       " <Selector xpath='.//li/*[@class=\"authors-affiliations__name\"]' data='<span itemprop=\"name\" class=\"authors-aff'>,\n",
       " <Selector xpath='.//li/*[@class=\"authors-affiliations__name\"]' data='<span itemprop=\"name\" class=\"authors-aff'>]"
      ]
     },
     "execution_count": 210,
     "metadata": {},
     "output_type": "execute_result"
    }
   ],
   "source": [
    "auths = response.xpath(author['auths'])[-1]\n",
    "auths.xpath(author['auth'])"
   ]
  },
  {
   "cell_type": "code",
   "execution_count": 184,
   "metadata": {
    "collapsed": false
   },
   "outputs": [
    {
     "data": {
      "text/plain": [
       "'.//ul[@class=\"test-contributor-names\"]'"
      ]
     },
     "execution_count": 184,
     "metadata": {},
     "output_type": "execute_result"
    }
   ],
   "source": [
    "authors = './/ul[@class=\"test-contributor-names\"]'\n",
    "auths = response.xpath(authors)[-1]\n",
    "auths\n",
    "author['auths']"
   ]
  },
  {
   "cell_type": "code",
   "execution_count": 141,
   "metadata": {
    "collapsed": false
   },
   "outputs": [],
   "source": [
    "Selector = response.xpath(author)[-1]\n",
    "auth = Selector.xpath('./li')[0]"
   ]
  },
  {
   "cell_type": "code",
   "execution_count": 176,
   "metadata": {
    "collapsed": false
   },
   "outputs": [],
   "source": [
    "name = normalize('NFKD', auth.xpath(author['name']).extract()[0])\n",
    "fn = name.split()[0]\n",
    "ln = name.split()[-1]"
   ]
  },
  {
   "cell_type": "code",
   "execution_count": 175,
   "metadata": {
    "collapsed": false
   },
   "outputs": [
    {
     "name": "stdout",
     "output_type": "stream",
     "text": [
      "Heather\n",
      "Dixon-Fowler\n"
     ]
    }
   ],
   "source": [
    "fname = name.split()[0]\n",
    "lname = name.split()[-1]\n",
    "print(fname)\n",
    "print(lname)"
   ]
  },
  {
   "cell_type": "code",
   "execution_count": 145,
   "metadata": {
    "collapsed": false
   },
   "outputs": [
    {
     "data": {
      "text/plain": [
       "['dixonfowlerh@appstate.edu']"
      ]
     },
     "execution_count": 145,
     "metadata": {},
     "output_type": "execute_result"
    }
   ],
   "source": [
    "auth.xpath('.//a[@class=\"gtm-email-author\"]/@title').extract()"
   ]
  },
  {
   "cell_type": "code",
   "execution_count": 119,
   "metadata": {
    "collapsed": false
   },
   "outputs": [
    {
     "data": {
      "text/plain": [
       "'affiliation-1'"
      ]
     },
     "execution_count": 119,
     "metadata": {},
     "output_type": "execute_result"
    }
   ],
   "source": [
    "affiliation = fir.xpath('.//li[@data-affiliation]/@data-affiliation').extract()[0][1:]\n",
    "affiliation"
   ]
  },
  {
   "cell_type": "code",
   "execution_count": 109,
   "metadata": {
    "collapsed": false
   },
   "outputs": [
    {
     "data": {
      "text/plain": [
       "['<li id=\"affiliation-1\" class=\"affiliation\" itemprop=\"affiliation\" itemscope=\"\" itemtype=\"http://schema.org/Organization\"><span class=\"affiliation__count\">1.</span><span class=\"affiliation__item\"><span itemprop=\"department\" class=\"affiliation__department\">Department of Management, Walker College of Business</span><span itemprop=\"name\" class=\"affiliation__name\">Appalachian State University</span><span itemprop=\"city\" class=\"affiliation__city\">Boone</span><span itemprop=\"country\" class=\"affiliation__country\">USA</span></span></li>']"
      ]
     },
     "execution_count": 109,
     "metadata": {},
     "output_type": "execute_result"
    }
   ],
   "source": [
    "fill = response.xpath('.//*[@id=\"affiliation-1\"]')\n",
    "fill.extract()"
   ]
  },
  {
   "cell_type": "code",
   "execution_count": 118,
   "metadata": {
    "collapsed": false
   },
   "outputs": [],
   "source": [
    "fill = response.xpath('.//*[@id=\"affiliation-1\"]')\n",
    "\n",
    "# insitution\n",
    "# department\n",
    "department = fill.xpath('.//*[@class=\"affiliation__department\"]/text()').extract()[0]\n",
    "\n",
    "# university\n",
    "university = fill.xpath('.//*[@class=\"affiliation__name\"]/text()').extract()[0]\n",
    "institution = department +' ' +  university\n",
    "\n",
    "\n",
    "# address\n",
    "city = fill.xpath('.//*[@class=\"affiliation__city\"]/text()').extract()[0]\n",
    "country = fill.xpath('.//*[@class=\"affiliation__country\"]/text()').extract()[0]\n",
    "address = city +' ' +  country\n"
   ]
  },
  {
   "cell_type": "code",
   "execution_count": null,
   "metadata": {
    "collapsed": true
   },
   "outputs": [],
   "source": []
  },
  {
   "cell_type": "code",
   "execution_count": 75,
   "metadata": {
    "collapsed": false
   },
   "outputs": [
    {
     "data": {
      "text/plain": [
       "'Heather R. Dixon-Fowler'"
      ]
     },
     "execution_count": 75,
     "metadata": {},
     "output_type": "execute_result"
    }
   ],
   "source": [
    "from unicodedata import normalize\n",
    "normalize(\"NFKD\",'Heather\\xa0R.\\xa0Dixon-Fowler')"
   ]
  },
  {
   "cell_type": "code",
   "execution_count": 78,
   "metadata": {
    "collapsed": false
   },
   "outputs": [
    {
     "data": {
      "text/plain": [
       "['Heather R. Dixon-Fowler', 'Alan E. Ellstrand', 'Jonathan L. Johnson']"
      ]
     },
     "execution_count": 78,
     "metadata": {},
     "output_type": "execute_result"
    }
   ],
   "source": [
    "[ normalize('NFKD',i) for i in Selector.xpath('.//span[@class=\"authors-affiliations__name\"]/text()').extract()]"
   ]
  },
  {
   "cell_type": "code",
   "execution_count": 104,
   "metadata": {
    "collapsed": false
   },
   "outputs": [
    {
     "data": {
      "text/html": [
       "<li id=\"affiliation-1\" class=\"affiliation\" itemprop=\"affiliation\" itemscope=\"\" itemtype=\"http://schema.org/Organization\"><span class=\"affiliation__count\">1.</span><span class=\"affiliation__item\"><span itemprop=\"department\" class=\"affiliation__department\">Department of Management, Walker College of Business</span><span itemprop=\"name\" class=\"affiliation__name\">Appalachian State University</span><span itemprop=\"city\" class=\"affiliation__city\">Boone</span><span itemprop=\"country\" class=\"affiliation__country\">USA</span></span></li>"
      ],
      "text/plain": [
       "<IPython.core.display.HTML object>"
      ]
     },
     "metadata": {},
     "output_type": "display_data"
    }
   ],
   "source": [
    "from IPython.display import HTML, display\n",
    "chart = HTML(fill)\n",
    "display(chart)"
   ]
  },
  {
   "cell_type": "code",
   "execution_count": 63,
   "metadata": {
    "collapsed": false
   },
   "outputs": [
    {
     "data": {
      "text/html": [
       "<ul class=\"test-contributor-names\"><li><span itemprop=\"name\" class=\"authors-affiliations__name\">Heather R. Dixon-Fowler</span><ul class=\"authors-affiliations__indexes u-inline-list\" data-role=\"AuthorsIndexes\"><li data-affiliation=\"#affiliation-1\">1</li></ul><span class=\"author-information\"><span class=\"author-information__contact u-icon-before icon--email-before\"><a href=\"mailto:dixonfowlerh@appstate.edu\" title=\"dixonfowlerh@appstate.edu\" itemprop=\"email\" class=\"gtm-email-author\">Email author</a></span></span></li><li><span itemprop=\"name\" class=\"authors-affiliations__name\">Alan E. Ellstrand</span><ul class=\"authors-affiliations__indexes u-inline-list\" data-role=\"AuthorsIndexes\"><li data-affiliation=\"#affiliation-2\">2</li></ul></li><li><span itemprop=\"name\" class=\"authors-affiliations__name\">Jonathan L. Johnson</span><ul class=\"authors-affiliations__indexes u-inline-list\" data-role=\"AuthorsIndexes\"><li data-affiliation=\"#affiliation-3\">3</li></ul></li></ul>"
      ],
      "text/plain": [
       "<IPython.core.display.HTML object>"
      ]
     },
     "metadata": {},
     "output_type": "display_data"
    }
   ],
   "source": [
    "chart = HTML(a[1])\n",
    "display(chart)"
   ]
  },
  {
   "cell_type": "code",
   "execution_count": 269,
   "metadata": {
    "collapsed": false
   },
   "outputs": [
    {
     "data": {
      "text/plain": [
       "<200 https://link.springer.com/journal/41267>"
      ]
     },
     "execution_count": 269,
     "metadata": {},
     "output_type": "execute_result"
    }
   ],
   "source": [
    "# we need headers to disguise our bot as a browser\n",
    "\n",
    "headers = {\n",
    "    \"Connection\": \"keep-alive\",\n",
    "    \"Cache-Control\": \"max-age=0\",\n",
    "    \"Accept\": \"text/html,application/xhtml+xml,application/xml;q=0.9,image/webp,*/*;q=0.8\",\n",
    "    \"User-Agent\": \"Mozilla/5.0 (Windows NT 6.1; WOW64) AppleWebKit/537.36 (KHTML, like Gecko) Chrome/34.0.1847.131 Safari/537.36\",\n",
    "    \"Accept-Encoding\": \"gzip,deflate,sdch\",\n",
    "    \"Accept-Language\": \"zh-CN,zh;q=0.8,en-US;q=0.6,en;q=0.4,zh-TW;q=0.2\",\n",
    "}\n",
    "\n",
    "import requests\n",
    "from scrapy.http import TextResponse\n",
    "\n",
    "r = requests.get('https://link.springer.com/journal/41267', \n",
    "                 headers = headers)\n",
    "\n",
    "response = TextResponse(r.url, body = r.text, encoding = 'utf-8')\n",
    "\n",
    "# there is a response we need to handle\n",
    "response"
   ]
  },
  {
   "cell_type": "code",
   "execution_count": 276,
   "metadata": {
    "collapsed": true
   },
   "outputs": [],
   "source": [
    "source = dict(\n",
    "    issn = '//span[@class=\"pissn\"]/text()',\n",
    "    publication_title = './/h1[@id=\"title\"]/text()',\n",
    "    description = './/div[@class=\"abstract-content formatted\"]/p/text()',\n",
    "    coverimage = './/img[@class=\"look-inside-cover\"]/@src'\n",
    "    )"
   ]
  },
  {
   "cell_type": "code",
   "execution_count": 293,
   "metadata": {
    "collapsed": false
   },
   "outputs": [
    {
     "data": {
      "text/plain": [
       "['The top-ranked journal in the field of international business, ',\n",
       " ' (',\n",
       " ') is multidisciplinary in scope and interdisciplinary in content and methodology, publishing content from across the the six sub-domains of international business studies:',\n",
       " '(1) the activities, strategies, structures and decision-making processes of multinational enterprises; (2) interactions between multinational enterprises and other actors, organizations, institutions, and markets; (3) the cross-border activities of firms (e.g., intrafirm trade, finance, investment, technology transfers, offshore services); (4) how the international environment (e.g., cultural, economic, legal, political) affects the activities, strategies, structures and decision-making processes of firms; (5) the international dimensions of organizational forms (e.g., strategic alliances, mergers and acquisitions) and activities (e.g., entrepreneurship, knowledge-based competition, corporate governance); and (6) cross-country comparative studies of businesses, business processes and organizational behavior in different countries and environments.']"
      ]
     },
     "execution_count": 293,
     "metadata": {},
     "output_type": "execute_result"
    }
   ],
   "source": [
    "response.xpath(source['description']).extract()"
   ]
  },
  {
   "cell_type": "code",
   "execution_count": 299,
   "metadata": {
    "collapsed": false
   },
   "outputs": [],
   "source": [
    "\n",
    "from scrapy.loader.processors import Join, TakeFirst\n",
    "\n",
    "def load_source(response, source):\n",
    "    l = ItemLoader(item = SourceItem(), response = response)\n",
    "    l.default_output_processor = TakeFirst()\n",
    "    l.add_xpath(\"issn\", source['issn'])\n",
    "    l.add_xpath('publication_title', source['publication_title'])\n",
    "    l.add_xpath('coverimage', source['coverimage'])\n",
    "    l.add_xpath('description',source['description'], Join())\n",
    "    l.add_value('home_url', response.url)\n",
    "    publication_title = l.get_xpath(source['publication_title'])\n",
    "    return l"
   ]
  },
  {
   "cell_type": "code",
   "execution_count": 300,
   "metadata": {
    "collapsed": false
   },
   "outputs": [
    {
     "data": {
      "text/plain": [
       "{'coverimage': 'https://static-content.springer.com/cover/journal/41267/48/3.jpg',\n",
       " 'description': 'The top-ranked journal in the field of international '\n",
       "                'business,   ( ) is multidisciplinary in scope and '\n",
       "                'interdisciplinary in content and methodology, publishing '\n",
       "                'content from across the the six sub-domains of international '\n",
       "                'business studies: (1) the activities, strategies, structures '\n",
       "                'and decision-making processes of multinational enterprises; '\n",
       "                '(2) interactions between multinational enterprises and other '\n",
       "                'actors, organizations, institutions, and markets; (3) the '\n",
       "                'cross-border activities of firms (e.g., intrafirm trade, '\n",
       "                'finance, investment, technology transfers, offshore '\n",
       "                'services); (4) how the international environment (e.g., '\n",
       "                'cultural, economic, legal, political) affects the activities, '\n",
       "                'strategies, structures and decision-making processes of '\n",
       "                'firms; (5) the international dimensions of organizational '\n",
       "                'forms (e.g., strategic alliances, mergers and acquisitions) '\n",
       "                'and activities (e.g., entrepreneurship, knowledge-based '\n",
       "                'competition, corporate governance); and (6) cross-country '\n",
       "                'comparative studies of businesses, business processes and '\n",
       "                'organizational behavior in different countries and '\n",
       "                'environments.',\n",
       " 'home_url': 'https://link.springer.com/journal/41267',\n",
       " 'issn': '0047-2506 (Print) ',\n",
       " 'publication_title': 'Journal of International Business Studies'}"
      ]
     },
     "execution_count": 300,
     "metadata": {},
     "output_type": "execute_result"
    }
   ],
   "source": [
    "l = load_source(response, source)\n",
    "l.load_item()"
   ]
  },
  {
   "cell_type": "code",
   "execution_count": null,
   "metadata": {
    "collapsed": true
   },
   "outputs": [],
   "source": []
  }
 ],
 "metadata": {
  "anaconda-cloud": {},
  "kernelspec": {
   "display_name": "Python [conda root]",
   "language": "python",
   "name": "conda-root-py"
  },
  "language_info": {
   "codemirror_mode": {
    "name": "ipython",
    "version": 3
   },
   "file_extension": ".py",
   "mimetype": "text/x-python",
   "name": "python",
   "nbconvert_exporter": "python",
   "pygments_lexer": "ipython3",
   "version": "3.5.2"
  }
 },
 "nbformat": 4,
 "nbformat_minor": 1
}
