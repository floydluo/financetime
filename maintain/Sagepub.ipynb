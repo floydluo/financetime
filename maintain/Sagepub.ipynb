{
 "cells": [
  {
   "cell_type": "code",
   "execution_count": 2,
   "metadata": {
    "collapsed": false
   },
   "outputs": [
    {
     "data": {
      "text/plain": [
       "<200 http://journals.sagepub.com/doi/full/10.1177/0018726716650730>"
      ]
     },
     "execution_count": 2,
     "metadata": {},
     "output_type": "execute_result"
    }
   ],
   "source": [
    "# we need headers to disguise our bot as a browser\n",
    "\n",
    "headers = {\n",
    "    \"Connection\": \"keep-alive\",\n",
    "    \"Cache-Control\": \"max-age=0\",\n",
    "    \"Accept\": \"text/html,application/xhtml+xml,application/xml;q=0.9,image/webp,*/*;q=0.8\",\n",
    "    \"User-Agent\": \"Mozilla/5.0 (Windows NT 6.1; WOW64) AppleWebKit/537.36 (KHTML, like Gecko) Chrome/34.0.1847.131 Safari/537.36\",\n",
    "    \"Accept-Encoding\": \"gzip,deflate,sdch\",\n",
    "    \"Accept-Language\": \"zh-CN,zh;q=0.8,en-US;q=0.6,en;q=0.4,zh-TW;q=0.2\",\n",
    "}\n",
    "\n",
    "import requests\n",
    "from scrapy.http import TextResponse\n",
    "\n",
    "r = requests.get('http://journals.sagepub.com/doi/full/10.1177/0018726716650730', \n",
    "                 headers = headers)\n",
    "\n",
    "response = TextResponse(r.url, body = r.text, encoding = 'utf-8')\n",
    "\n",
    "# there is a response we need to handle\n",
    "response"
   ]
  },
  {
   "cell_type": "code",
   "execution_count": 3,
   "metadata": {
    "collapsed": true
   },
   "outputs": [],
   "source": [
    "# -*- coding: utf-8 -*-\n",
    "\n",
    "# Define here the models for your scraped items\n",
    "#\n",
    "# See documentation in:\n",
    "# http://doc.scrapy.org/en/latest/topics/items.html\n",
    "\n",
    "from scrapy import Item, Field\n",
    "\n",
    "\n",
    "class DocumentItem(Item):\n",
    "    # define the fields for your item here like:\n",
    "    # name = scrapy.Field()\n",
    "    abstract = Field()\n",
    "\n",
    "    publication_date = Field()\n",
    "    submission_date = Field()\n",
    "    online_date = Field()\n",
    "    revision_date = Field()\n",
    "    accepted_date = Field()\n",
    "\n",
    "    title = Field()\n",
    "    coverpage_url = Field()\n",
    "    fpage = Field()\n",
    "    lpage = Field()\n",
    "    pages = Field()\n",
    "    submission_path = Field()\n",
    "\n",
    "    publication_title = Field()\n",
    "\n",
    "\n",
    "class KeywordItem(Item):\n",
    "    keyword = Field()\n",
    "\n",
    "    title = Field()\n",
    "\n",
    "\n",
    "class SourceItem(Item):\n",
    "    publication_title = Field()\n",
    "    chief_editor = Field()\n",
    "    issn = Field()\n",
    "    description = Field()\n",
    "    home_url = Field()\n",
    "    coverimage = Field()\n",
    "\n",
    "    title = Field()\n",
    "\n",
    "class AuthorItem(Item):\n",
    "    institution = Field()\n",
    "    email = Field()\n",
    "    avatar = Field()\n",
    "    vitae = Field()\n",
    "    fname = Field()\n",
    "    lname = Field()\n",
    "    address = Field()\n",
    "\n",
    "    title = Field()"
   ]
  },
  {
   "cell_type": "code",
   "execution_count": 4,
   "metadata": {
    "collapsed": false
   },
   "outputs": [],
   "source": [
    "# sagepub\n",
    "document = dict(\n",
    "    title = './/div[@class=\"publicationContentTitle\"]/h1/text()',\n",
    "    abstract = './/div[@class=\"abstractSection abstractInFull\"]/p/text()',\n",
    "    submission_path = './/div[@class=\"articleJournalNavTitle\"]/text()',\n",
    "    pages = './/div[@class=\"Article information\"]/div/text()',\n",
    "    dates = './/div[@class=\"published-dates\"]/text()'\n",
    "    )"
   ]
  },
  {
   "cell_type": "code",
   "execution_count": null,
   "metadata": {
    "collapsed": true
   },
   "outputs": [],
   "source": []
  },
  {
   "cell_type": "code",
   "execution_count": 43,
   "metadata": {
    "collapsed": true
   },
   "outputs": [],
   "source": [
    "from dateutil.parser import parse\n",
    "from scrapy.loader import ItemLoader\n",
    "from scrapy.loader.processors import Join, TakeFirst\n",
    "\n",
    "def load_document(response, document):\n",
    "    l = ItemLoader(item = DocumentItem(), response = response)\n",
    "    l.default_output_processor = TakeFirst()\n",
    "    \n",
    "    l.add_value('coverpage_url', response.url)\n",
    "    l.add_xpath('abstract', document['abstract'])\n",
    "    l.add_value('title', (l.get_xpath(document['title'])[0]).replace('\\n', '').strip())\n",
    "    l.add_value('submission_path', l.get_xpath(document['submission_path'])[0].replace('\\n', '').strip())\n",
    "\n",
    "    # handle dates\n",
    "    try:\n",
    "        dates =[i.replace('\\n', '').replace(';', '').strip() for i in response.xpath(document['dates']).extract()[-2:]]\n",
    "        d = [parse(i) for i in dates]\n",
    "        l.add_value('online_date', d[0])\n",
    "        l.add_value('publication_date', d[1])\n",
    "    except:\n",
    "        pass\n",
    "\n",
    "    # handle pages\n",
    "    try:\n",
    "        pages = response.xpath(document['pages']).extract()[0].strip().split('\\n')[-1].strip().split(':')[-1]\n",
    "        if '–' in pages:\n",
    "            fp = int(pages.split('–')[0])\n",
    "            lp = int(pages.split('–')[1])\n",
    "        elif '-' in pages:\n",
    "            fp = int(pages.split('-')[0])\n",
    "            lp = int(pages.split('-')[1])\n",
    "        l.add_value('fpage', fp)\n",
    "        l.add_value('lpage', lp)\n",
    "        l.add_value('pages', lp-fp+1)\n",
    "    except:\n",
    "        pass\n",
    "\n",
    "    # mark it down, with source's publication_title\n",
    "    return l"
   ]
  },
  {
   "cell_type": "code",
   "execution_count": 44,
   "metadata": {
    "collapsed": false
   },
   "outputs": [
    {
     "ename": "IndexError",
     "evalue": "list index out of range",
     "output_type": "error",
     "traceback": [
      "\u001b[0;31m---------------------------------------------------------------------------\u001b[0m",
      "\u001b[0;31mIndexError\u001b[0m                                Traceback (most recent call last)",
      "\u001b[0;32m<ipython-input-44-c35b5a1d7e2b>\u001b[0m in \u001b[0;36m<module>\u001b[0;34m()\u001b[0m\n\u001b[0;32m----> 1\u001b[0;31m \u001b[0ml\u001b[0m \u001b[0;34m=\u001b[0m \u001b[0mload_document\u001b[0m\u001b[0;34m(\u001b[0m\u001b[0mresponse\u001b[0m\u001b[0;34m,\u001b[0m \u001b[0mdocument\u001b[0m\u001b[0;34m)\u001b[0m\u001b[0;34m\u001b[0m\u001b[0m\n\u001b[0m\u001b[1;32m      2\u001b[0m \u001b[0ml\u001b[0m\u001b[0;34m.\u001b[0m\u001b[0mload_item\u001b[0m\u001b[0;34m(\u001b[0m\u001b[0;34m)\u001b[0m\u001b[0;34m\u001b[0m\u001b[0m\n",
      "\u001b[0;32m<ipython-input-43-25e963f48bdf>\u001b[0m in \u001b[0;36mload_document\u001b[0;34m(response, document)\u001b[0m\n\u001b[1;32m      9\u001b[0m     \u001b[0ml\u001b[0m\u001b[0;34m.\u001b[0m\u001b[0madd_value\u001b[0m\u001b[0;34m(\u001b[0m\u001b[0;34m'coverpage_url'\u001b[0m\u001b[0;34m,\u001b[0m \u001b[0mresponse\u001b[0m\u001b[0;34m.\u001b[0m\u001b[0murl\u001b[0m\u001b[0;34m)\u001b[0m\u001b[0;34m\u001b[0m\u001b[0m\n\u001b[1;32m     10\u001b[0m     \u001b[0ml\u001b[0m\u001b[0;34m.\u001b[0m\u001b[0madd_xpath\u001b[0m\u001b[0;34m(\u001b[0m\u001b[0;34m'abstract'\u001b[0m\u001b[0;34m,\u001b[0m \u001b[0mdocument\u001b[0m\u001b[0;34m[\u001b[0m\u001b[0;34m'abstract'\u001b[0m\u001b[0;34m]\u001b[0m\u001b[0;34m)\u001b[0m\u001b[0;34m\u001b[0m\u001b[0m\n\u001b[0;32m---> 11\u001b[0;31m     \u001b[0ml\u001b[0m\u001b[0;34m.\u001b[0m\u001b[0madd_value\u001b[0m\u001b[0;34m(\u001b[0m\u001b[0;34m'title'\u001b[0m\u001b[0;34m,\u001b[0m \u001b[0;34m(\u001b[0m\u001b[0ml\u001b[0m\u001b[0;34m.\u001b[0m\u001b[0mget_xpath\u001b[0m\u001b[0;34m(\u001b[0m\u001b[0mdocument\u001b[0m\u001b[0;34m[\u001b[0m\u001b[0;34m'title'\u001b[0m\u001b[0;34m]\u001b[0m\u001b[0;34m)\u001b[0m\u001b[0;34m[\u001b[0m\u001b[0;36m0\u001b[0m\u001b[0;34m]\u001b[0m\u001b[0;34m)\u001b[0m\u001b[0;34m.\u001b[0m\u001b[0mreplace\u001b[0m\u001b[0;34m(\u001b[0m\u001b[0;34m'\\n'\u001b[0m\u001b[0;34m,\u001b[0m \u001b[0;34m''\u001b[0m\u001b[0;34m)\u001b[0m\u001b[0;34m.\u001b[0m\u001b[0mstrip\u001b[0m\u001b[0;34m(\u001b[0m\u001b[0;34m)\u001b[0m\u001b[0;34m)\u001b[0m\u001b[0;34m\u001b[0m\u001b[0m\n\u001b[0m\u001b[1;32m     12\u001b[0m     \u001b[0ml\u001b[0m\u001b[0;34m.\u001b[0m\u001b[0madd_value\u001b[0m\u001b[0;34m(\u001b[0m\u001b[0;34m'submission_path'\u001b[0m\u001b[0;34m,\u001b[0m \u001b[0ml\u001b[0m\u001b[0;34m.\u001b[0m\u001b[0mget_xpath\u001b[0m\u001b[0;34m(\u001b[0m\u001b[0mdocument\u001b[0m\u001b[0;34m[\u001b[0m\u001b[0;34m'submission_path'\u001b[0m\u001b[0;34m]\u001b[0m\u001b[0;34m)\u001b[0m\u001b[0;34m[\u001b[0m\u001b[0;36m0\u001b[0m\u001b[0;34m]\u001b[0m\u001b[0;34m.\u001b[0m\u001b[0mreplace\u001b[0m\u001b[0;34m(\u001b[0m\u001b[0;34m'\\n'\u001b[0m\u001b[0;34m,\u001b[0m \u001b[0;34m''\u001b[0m\u001b[0;34m)\u001b[0m\u001b[0;34m.\u001b[0m\u001b[0mstrip\u001b[0m\u001b[0;34m(\u001b[0m\u001b[0;34m)\u001b[0m\u001b[0;34m)\u001b[0m\u001b[0;34m\u001b[0m\u001b[0m\n\u001b[1;32m     13\u001b[0m \u001b[0;34m\u001b[0m\u001b[0m\n",
      "\u001b[0;31mIndexError\u001b[0m: list index out of range"
     ]
    }
   ],
   "source": [
    "l = load_document(response, document)\n",
    "l.load_item()"
   ]
  },
  {
   "cell_type": "code",
   "execution_count": null,
   "metadata": {
    "collapsed": true
   },
   "outputs": [],
   "source": [
    "keyword = \n",
    "\n",
    "\n",
    "def load_keyword(response, keyword):\n",
    "    for k in response.xpath(keyword).extract():\n",
    "        k1 = k.split(';')[0]\n",
    "        l = ItemLoader(item = KeywordItem(), response = response)\n",
    "        l.default_output_processor = TakeFirst()\n",
    "        l.add_value('keyword', k1)\n",
    "        yield l\n",
    "\n",
    "\n",
    "        "
   ]
  },
  {
   "cell_type": "code",
   "execution_count": 8,
   "metadata": {
    "collapsed": false
   },
   "outputs": [],
   "source": [
    "author =dict(\n",
    "    auth = './/div[@class=\"contribDegrees\"]',\n",
    "    name = './/a[@class=\"entryAuthor\"]/text()',\n",
    "    email = './/a[@class=\"email\"]/@href',\n",
    "    institution = './/div[@class=\"artice-info-affiliation\"]/text()'\n",
    "    )\n"
   ]
  },
  {
   "cell_type": "code",
   "execution_count": 11,
   "metadata": {
    "collapsed": false
   },
   "outputs": [],
   "source": [
    "\n",
    "def load_author(response,author):\n",
    "    auths = response.xpath(author['auth'])\n",
    "    for auth in auths:\n",
    "        l = ItemLoader(item = AuthorItem(), response = response)\n",
    "        l.default_output_processor = TakeFirst()\n",
    "\n",
    "        # author's first name and last name\n",
    "        name = auth.xpath(author['name']).extract()[0].split()\n",
    "        fn = name[0]\n",
    "        ln = name[-1]\n",
    "        l.add_value('fname', fn)\n",
    "        l.add_value('lname', ln)\n",
    "\n",
    "        # author's email\n",
    "        try:\n",
    "            email = auth.xpath(author['email']).extract()[0][7:]\n",
    "            l.add_value('email', email)\n",
    "        except:\n",
    "            pass\n",
    "\n",
    "        # author's institution\n",
    "        try:\n",
    "            institution = auth.xpath(author['institution']).extract()[0]\n",
    "            l.add_value('institution', institution)\n",
    "        except:\n",
    "            pass\n",
    "        yield l\n",
    "\n"
   ]
  },
  {
   "cell_type": "code",
   "execution_count": 12,
   "metadata": {
    "collapsed": false
   },
   "outputs": [
    {
     "name": "stdout",
     "output_type": "stream",
     "text": [
      "{'email': 'a.dy@lboro.ac.uk',\n",
      " 'fname': 'Angela',\n",
      " 'institution': 'Loughborough University London, UK, ',\n",
      " 'lname': 'Dy'}\n",
      "{'email': 'susan.marlow@nottingham.ac.uk',\n",
      " 'fname': 'Susan',\n",
      " 'institution': 'University of Nottingham, UK, ',\n",
      " 'lname': 'Marlow'}\n",
      "{'email': 'lee.martin@warwick.ac.uk',\n",
      " 'fname': 'Lee',\n",
      " 'institution': 'University of Warwick, UK, ',\n",
      " 'lname': 'Martin'}\n"
     ]
    }
   ],
   "source": [
    "t = load_author(response, author)\n",
    "for i in t:\n",
    "    print(i.load_item())"
   ]
  },
  {
   "cell_type": "code",
   "execution_count": 13,
   "metadata": {
    "collapsed": false
   },
   "outputs": [
    {
     "data": {
      "text/plain": [
       "'http://journals.sagepub.com/doi/full/10.1177/0018726716650730'"
      ]
     },
     "execution_count": 13,
     "metadata": {},
     "output_type": "execute_result"
    }
   ],
   "source": [
    "response.url"
   ]
  },
  {
   "cell_type": "code",
   "execution_count": null,
   "metadata": {
    "collapsed": true
   },
   "outputs": [],
   "source": []
  },
  {
   "cell_type": "markdown",
   "metadata": {
    "collapsed": true
   },
   "source": [
    "# Source"
   ]
  },
  {
   "cell_type": "code",
   "execution_count": 1,
   "metadata": {
    "collapsed": false
   },
   "outputs": [
    {
     "data": {
      "text/plain": [
       "<200 https://us.sagepub.com/en-us/nam/human-relations/journal200870>"
      ]
     },
     "execution_count": 1,
     "metadata": {},
     "output_type": "execute_result"
    }
   ],
   "source": [
    "# we need headers to disguise our bot as a browser\n",
    "\n",
    "headers = {\n",
    "    \"Connection\": \"keep-alive\",\n",
    "    \"Cache-Control\": \"max-age=0\",\n",
    "    \"Accept\": \"text/html,application/xhtml+xml,application/xml;q=0.9,image/webp,*/*;q=0.8\",\n",
    "    \"User-Agent\": \"Mozilla/5.0 (Windows NT 6.1; WOW64) AppleWebKit/537.36 (KHTML, like Gecko) Chrome/34.0.1847.131 Safari/537.36\",\n",
    "    \"Accept-Encoding\": \"gzip,deflate,sdch\",\n",
    "    \"Accept-Language\": \"zh-CN,zh;q=0.8,en-US;q=0.6,en;q=0.4,zh-TW;q=0.2\",\n",
    "}\n",
    "\n",
    "import requests\n",
    "from scrapy.http import TextResponse\n",
    "\n",
    "r = requests.get('https://us.sagepub.com/en-us/nam/human-relations/journal200870', \n",
    "                 headers = headers)\n",
    "\n",
    "response = TextResponse(r.url, body = r.text, encoding = 'utf-8')\n",
    "\n",
    "# there is a response we need to handle\n",
    "response"
   ]
  },
  {
   "cell_type": "code",
   "execution_count": 74,
   "metadata": {
    "collapsed": true
   },
   "outputs": [],
   "source": [
    "source = dict(\n",
    "    issn = '//span[@class=\"margin-right\"]/text()',\n",
    "    chief_editor = '//td[@class=\"journal-contributor-member\"]/a/text()',\n",
    "    publication_title = './/h1[@class=\"heading-large heading-spacing--small\"]/text()',\n",
    "    description = './/div[@class=\"field field-name-field-website-configuration field-type-text-long field-label-hidden\"]',\n",
    "    coverimage = './/img[@class=\"sage-thumbnail-width-150px lazy\"]/@data-original'\n",
    "    )"
   ]
  },
  {
   "cell_type": "code",
   "execution_count": 81,
   "metadata": {
    "collapsed": true
   },
   "outputs": [],
   "source": [
    "import re\n",
    "from scrapy.loader.processors import Join, TakeFirst, Join\n",
    "\n",
    "\n",
    "# this function is used to strip the html tags\n",
    "def cleanhtml(raw_html):\n",
    "    cleanr = re.compile('<.*?>')\n",
    "    cleantext = re.sub(cleanr, '', raw_html)\n",
    "    return cleantext\n",
    "\n",
    "\n",
    "def load_source(response, source):\n",
    "    website_url = 'https://us.sagepub.com' \n",
    "    l = ItemLoader(item = SourceItem(), response = response)\n",
    "    l.default_output_processor = TakeFirst()\n",
    "    l.add_value(\"issn\", response.xpath(source['issn']).extract()[1].split()[-1])\n",
    "    l.add_value('chief_editor', response.xpath(source['chief_editor']).extract()[0])\n",
    "    l.add_xpath('publication_title', source['publication_title'])\n",
    "    l.add_value('coverimage', website_url + l.get_xpath(source['coverimage'])[0])\n",
    "    l.add_xpath('description', './/div[@class=\"field-item even\"]', Join(), cleanhtml, lambda x: x.replace('\\n', '').replace('  ', '').strip())\n",
    "    l.add_value('home_url', response.url)\n",
    "    publication_title = l.get_xpath(source['publication_title'])\n",
    "    return l"
   ]
  },
  {
   "cell_type": "code",
   "execution_count": 83,
   "metadata": {
    "collapsed": false
   },
   "outputs": [
    {
     "data": {
      "text/plain": [
       "{'chief_editor': 'Nick Turner',\n",
       " 'coverimage': 'https://us.sagepub.com/sites/default/files/styles/sage_thumbnail_width_150px/feed/79366_HUM.jpg',\n",
       " 'description': '2015\\xa0Impact Factor: 2.619 2015\\xa0Ranking:\\xa037/192 in '\n",
       "                'Management\\xa0|\\xa04/95 in Social Sciences, '\n",
       "                'Interdisciplinary2016 Release of Journal Citation Reports, '\n",
       "                'Source: 2015 Web of Science Data Visit the Human Relations '\n",
       "                'website\\xa0for more informationHuman Relations has had a long '\n",
       "                'tradition of bringing social science disciplines together in '\n",
       "                'order to understand the character and complexity of human '\n",
       "                'problems. We publish incisive investigations from an '\n",
       "                'international network of leading scholars in management, '\n",
       "                'psychology, sociology, politics, anthropology and '\n",
       "                'economics.Human Relations seeks high quality research papers '\n",
       "                'that extend our knowledge of social relationships at work and '\n",
       "                'organizational forms, practices and processes that affect the '\n",
       "                'nature, structure, and conditions of work and work '\n",
       "                'organizations. It welcomes manuscripts that seek to cross '\n",
       "                'disciplinary boundaries in order to develop new perspectives '\n",
       "                'and insights into social relationships and relationships '\n",
       "                'between people and organizations. Human Relations encourages '\n",
       "                'strong empirical contributions that develop and extend theory '\n",
       "                'as well as more conceptual papers that integrate, critique '\n",
       "                'and expand existing theory.The journal welcomes critical '\n",
       "                'reviews that genuinely advance our understanding of the '\n",
       "                'connections between management, organizations and '\n",
       "                'interdisciplinary social sciences.Human Relations encourages '\n",
       "                'the uses of methods that are appropriate to both the research '\n",
       "                'context and research questions and therefore welcomes both '\n",
       "                'qualitative and quantitative methods and innovative methods '\n",
       "                'of investigation and analysis.Click here for more specific '\n",
       "                'guidance for contributorsA Fast Track to Publication and '\n",
       "                'Innovative Review ProcessHuman Relations offers a fast-track '\n",
       "                'to publication with an average 72 days between submission and '\n",
       "                'first decision after peer review.Human Relations also boasts '\n",
       "                'an innovative \"reviewer school\". Each manuscript reviewer '\n",
       "                'receives the anonymous copies of other reviews in an attempt '\n",
       "                'to offer exposure to the excellent refereeing practice that '\n",
       "                'informs future reviewing work.Electronic access:Human '\n",
       "                'Relations is available electronically on SAGE Journals Online '\n",
       "                'at http://hum.sagepub.com This journal is a member of the '\n",
       "                'Committee on Publication Ethics (COPE) Human Relations is an '\n",
       "                'international peer-reviewed journal which publishes the '\n",
       "                'highest quality original research to advance our '\n",
       "                'understanding of social relationships at and around work '\n",
       "                'through theoretical development and empirical '\n",
       "                'investigation.The Journal seeks high-quality research papers '\n",
       "                'that extend our knowledge of social relationships at work and '\n",
       "                'organizational forms, practices and processes that affect the '\n",
       "                'nature, structure and conditions of work and work '\n",
       "                'organizations. It\\xa0welcomes manuscripts that seek to cross '\n",
       "                'disciplinary boundaries in order to develop new perspectives '\n",
       "                'and insights into social relationships and relationships '\n",
       "                'between people and organizations. Human Relations encourages '\n",
       "                'strong empirical contributions that develop and extend theory '\n",
       "                'as well as more conceptual papers that integrate, critique '\n",
       "                'and expand existing theory.\\xa0It encourages research that '\n",
       "                'relates social theory to social practice and translates '\n",
       "                'knowledge about Human Relations into prospects for social '\n",
       "                'action and policy-making that aims to improve working '\n",
       "                'lives.The journal\\xa0encourages the uses of methods that are '\n",
       "                'appropriate to both the research context and research '\n",
       "                'questions and therefore welcomes both qualitative and '\n",
       "                'quantitative methods and innovative methods of investigation '\n",
       "                'and analysis. It welcomes papers that combine different '\n",
       "                'empirical methods and which explore different levels of '\n",
       "                'analysis. Click here for more specific guidance for '\n",
       "                'contributors. Abi/informAbscanAbstracts for Social '\n",
       "                'WorkersAbstracts in AnthropologyAbstracts on Criminology and '\n",
       "                'PenologyAcademic Search PremierAdolescent Mental Health '\n",
       "                'AbstractsApplied Social Sciences Index &amp; Abstracts '\n",
       "                '(ASSIA)British Education IndexBritish Journal of Guidance and '\n",
       "                'CounsellingBritish Journal of Social WorkBusiness Source '\n",
       "                'CorporateBusiness Source EliteBusiness Source PremierCD-ROM - '\n",
       "                'International Bibliography of Book Reviews of Scholarly '\n",
       "                'Literature in the Humanities and Social SciencesCD-ROM - '\n",
       "                'International Bibliography of Book Reviews of Scholarly '\n",
       "                'Lterature on the Humanities and Social SCD-ROM International '\n",
       "                'Bibliography of Periodical Literature in the Humanities and '\n",
       "                'Social SciencesCD-ROM International Bibliography of '\n",
       "                'Periodical Literature on the Humanities and Social '\n",
       "                'SciencesCareer Development ReviewChild Development Abstracts '\n",
       "                '&amp; BibliographyChild Development Abstracts &amp; '\n",
       "                'Bibliography (Ceased 2001)Communication AbstractsContents '\n",
       "                'Pages in EducationCriminal Justice AbstractsCumulative Index '\n",
       "                'to Nursing and Allied Health Literature CINAHLCurrent '\n",
       "                'Contents / Social and Behavioral SciencesCurrent Contents/ '\n",
       "                'Social and Behavioral SciencesCurrent Management '\n",
       "                'LiteratureDocumentation in Public AdministrationEMCareERIC '\n",
       "                'Database (Science/Maths/Environ. Educ.)Educational '\n",
       "                'Administration AbstractsEducational Management '\n",
       "                'AbstractsEducational Research Abstracts OnlineEducational '\n",
       "                'Technology AbstractsEmerald Management ReviewsErgonomics '\n",
       "                'AbstractsFamily IndexFamily Index DatabaseFamily and Society '\n",
       "                'Studies Worldwide (FSSW)Focus On: Industrial and '\n",
       "                'Organizational PsychologyHealth Instrument FileHuman '\n",
       "                'Resources AbstractsIBZ: International Bibliography of '\n",
       "                'Periodical LiteratureIBZ: International Bibliography of '\n",
       "                'Periodical Literature in the Humanities and Social '\n",
       "                'SciencesInternational Bibliography of Book Reviews of '\n",
       "                'Scholarly Literature in the Humanities and Social '\n",
       "                'SciencesInternational Bibliography of Book Reviews of '\n",
       "                'Scholarly Literature on the Humanities and Social '\n",
       "                'SciencesInternational Bibliography of the Social '\n",
       "                'SciencesInternational Political Science AbstractsMarriage and '\n",
       "                'Family ReviewMasterFILE PremierMental Health Abstracts '\n",
       "                '(online through DIALOG)Online - International Bibliography of '\n",
       "                'Book Reviews of Scholarly Literature in the Humanities and '\n",
       "                'Social SciencesOnline - International Bibliography of Book '\n",
       "                'Reviews of Scholarly Literature on the Humanities and Social '\n",
       "                'Online - International Bibliography of Periodical Literature '\n",
       "                'in the Humanities and Social SciencesOnline - International '\n",
       "                'Bibliography of Periodical Literature on the Humanities and '\n",
       "                'Social SciencesPeriodical AbstractsProQuest: Linguistics and '\n",
       "                'Language Behavior Abstracts (LLBA)PsycINFOPsychological '\n",
       "                'AbstractsReferativnyi ZhurnalResearch AlertResource '\n",
       "                'DatabaseSciValScience Direct NavigatorScopusSelected List of '\n",
       "                'Tables of Contents of Psychiatric PeriodicalsSocINFOSocial '\n",
       "                'SciSearchSocial Science SourceSocial Sciences Citation '\n",
       "                'IndexSocial Sciences IndexSocial Services '\n",
       "                'AbstractsSociofileSociological AbstractsStudies on Women '\n",
       "                '&amp; Gender AbstractsStudies on Women &amp; Gender Abstracts '\n",
       "                'OnlineTechnical Education and Training AbstractsUnited States '\n",
       "                'Political Science DocumentsUrban Affairs AbstractsVINITI '\n",
       "                'Abstracts JournalWork Related AbstractsWorldwide Political '\n",
       "                'Science Abstractse-Psychee-Psyche (Ceased) £97.00 $179.00 '\n",
       "                '£1,451.00 £1,580.00 £1,612.00 £1,612.00 $2,982.00 £1,773.00 '\n",
       "                '£6,060.00 £11.00 £145.00',\n",
       " 'home_url': 'https://us.sagepub.com/en-us/nam/human-relations/journal200870',\n",
       " 'issn': '00187267',\n",
       " 'publication_title': 'Human Relations'}"
      ]
     },
     "execution_count": 83,
     "metadata": {},
     "output_type": "execute_result"
    }
   ],
   "source": [
    "l = load_source(response, source)\n",
    "l.load_item()"
   ]
  },
  {
   "cell_type": "markdown",
   "metadata": {},
   "source": [
    "# More URLs"
   ]
  },
  {
   "cell_type": "markdown",
   "metadata": {},
   "source": [
    "### Home Page"
   ]
  },
  {
   "cell_type": "code",
   "execution_count": 2,
   "metadata": {
    "collapsed": false
   },
   "outputs": [
    {
     "data": {
      "text/plain": [
       "<200 https://us.sagepub.com/en-us/nam/human-relations/journal200870>"
      ]
     },
     "execution_count": 2,
     "metadata": {},
     "output_type": "execute_result"
    }
   ],
   "source": [
    "# we need headers to disguise our bot as a browser\n",
    "\n",
    "headers = {\n",
    "    \"Connection\": \"keep-alive\",\n",
    "    \"Cache-Control\": \"max-age=0\",\n",
    "    \"Accept\": \"text/html,application/xhtml+xml,application/xml;q=0.9,image/webp,*/*;q=0.8\",\n",
    "    \"User-Agent\": \"Mozilla/5.0 (Windows NT 6.1; WOW64) AppleWebKit/537.36 (KHTML, like Gecko) Chrome/34.0.1847.131 Safari/537.36\",\n",
    "    \"Accept-Encoding\": \"gzip,deflate,sdch\",\n",
    "    \"Accept-Language\": \"zh-CN,zh;q=0.8,en-US;q=0.6,en;q=0.4,zh-TW;q=0.2\",\n",
    "}\n",
    "\n",
    "import requests\n",
    "from scrapy.http import TextResponse\n",
    "\n",
    "r = requests.get('https://us.sagepub.com/en-us/nam/human-relations/journal200870', \n",
    "                 headers = headers)\n",
    "\n",
    "response = TextResponse(r.url, body = r.text, encoding = 'utf-8')\n",
    "\n",
    "# there is a response we need to handle\n",
    "response"
   ]
  },
  {
   "cell_type": "code",
   "execution_count": 49,
   "metadata": {
    "collapsed": true
   },
   "outputs": [],
   "source": [
    "doc_prefix_url = 'http://journals.sagepub.com'"
   ]
  },
  {
   "cell_type": "markdown",
   "metadata": {},
   "source": [
    "### Volume"
   ]
  },
  {
   "cell_type": "code",
   "execution_count": 4,
   "metadata": {
    "collapsed": false
   },
   "outputs": [
    {
     "data": {
      "text/plain": [
       "<200 http://journals.sagepub.com/toc/huma/1>"
      ]
     },
     "execution_count": 4,
     "metadata": {},
     "output_type": "execute_result"
    }
   ],
   "source": [
    "r = requests.get('http://journals.sagepub.com/toc/huma/1', \n",
    "                 headers = headers)\n",
    "\n",
    "response = TextResponse(r.url, body = r.text, encoding = 'utf-8')\n",
    "\n",
    "# there is a response we need to handle\n",
    "response"
   ]
  },
  {
   "cell_type": "code",
   "execution_count": 51,
   "metadata": {
    "collapsed": true
   },
   "outputs": [],
   "source": [
    "document_url = './/a[@class=\"ref nowrap\"]/@href'"
   ]
  },
  {
   "cell_type": "code",
   "execution_count": 40,
   "metadata": {
    "collapsed": false
   },
   "outputs": [
    {
     "data": {
      "text/plain": [
       "['http://journals.sagepub.com/doi/full/10.1177/0018726716678367',\n",
       " 'http://journals.sagepub.com/doi/full/10.1177/0018726716676431',\n",
       " 'http://journals.sagepub.com/doi/full/10.1177/0018726716673442',\n",
       " 'http://journals.sagepub.com/doi/full/10.1177/0018726716674063',\n",
       " 'http://journals.sagepub.com/doi/full/10.1177/0018726716670226',\n",
       " 'http://journals.sagepub.com/doi/full/10.1177/0018726716640865',\n",
       " 'http://journals.sagepub.com/doi/full/10.1177/0018726716641747',\n",
       " 'http://journals.sagepub.com/doi/full/10.1177/0018726716645660']"
      ]
     },
     "execution_count": 40,
     "metadata": {},
     "output_type": "execute_result"
    }
   ],
   "source": [
    "[ base_url + i for i in response.xpath(article_url).extract()]"
   ]
  },
  {
   "cell_type": "code",
   "execution_count": 32,
   "metadata": {
    "collapsed": false
   },
   "outputs": [
    {
     "data": {
      "text/plain": [
       "8"
      ]
     },
     "execution_count": 32,
     "metadata": {},
     "output_type": "execute_result"
    }
   ],
   "source": [
    "len(a)"
   ]
  },
  {
   "cell_type": "code",
   "execution_count": 36,
   "metadata": {
    "collapsed": false
   },
   "outputs": [
    {
     "data": {
      "text/plain": [
       "['/doi/full/10.1177/0018726716678367',\n",
       " '/doi/full/10.1177/0018726716676431',\n",
       " '/doi/full/10.1177/0018726716673442',\n",
       " '/doi/full/10.1177/0018726716674063',\n",
       " '/doi/full/10.1177/0018726716670226',\n",
       " '/doi/full/10.1177/0018726716640865',\n",
       " '/doi/full/10.1177/0018726716641747',\n",
       " '/doi/full/10.1177/0018726716645660']"
      ]
     },
     "execution_count": 36,
     "metadata": {},
     "output_type": "execute_result"
    }
   ],
   "source": [
    "[i for i in response.xpath(article_url).extract()]"
   ]
  },
  {
   "cell_type": "code",
   "execution_count": 52,
   "metadata": {
    "collapsed": false
   },
   "outputs": [
    {
     "data": {
      "text/plain": [
       "['http://journals.sagepub.com/doi/full/10.1177/0018726716678367',\n",
       " 'http://journals.sagepub.com/doi/full/10.1177/0018726716676431',\n",
       " 'http://journals.sagepub.com/doi/full/10.1177/0018726716673442',\n",
       " 'http://journals.sagepub.com/doi/full/10.1177/0018726716674063',\n",
       " 'http://journals.sagepub.com/doi/full/10.1177/0018726716670226',\n",
       " 'http://journals.sagepub.com/doi/full/10.1177/0018726716640865',\n",
       " 'http://journals.sagepub.com/doi/full/10.1177/0018726716641747',\n",
       " 'http://journals.sagepub.com/doi/full/10.1177/0018726716645660']"
      ]
     },
     "execution_count": 52,
     "metadata": {},
     "output_type": "execute_result"
    }
   ],
   "source": [
    "[doc_prefix_url + i  for i in response.xpath(document_url).extract()]"
   ]
  },
  {
   "cell_type": "code",
   "execution_count": null,
   "metadata": {
    "collapsed": true
   },
   "outputs": [],
   "source": []
  }
 ],
 "metadata": {
  "anaconda-cloud": {},
  "kernelspec": {
   "display_name": "Python [default]",
   "language": "python",
   "name": "python3"
  },
  "language_info": {
   "codemirror_mode": {
    "name": "ipython",
    "version": 3
   },
   "file_extension": ".py",
   "mimetype": "text/x-python",
   "name": "python",
   "nbconvert_exporter": "python",
   "pygments_lexer": "ipython3",
   "version": "3.5.2"
  }
 },
 "nbformat": 4,
 "nbformat_minor": 1
}
