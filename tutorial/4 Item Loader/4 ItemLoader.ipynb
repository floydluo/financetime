{
 "cells": [
  {
   "cell_type": "markdown",
   "metadata": {},
   "source": [
    "## 4 How `ItemLoader` and `Item` work\n",
    "\n",
    "---\n",
    "\n",
    "In section 3 we get the values we want.\n",
    "\n",
    "How we convey and contain them?\n",
    "\n",
    "The answers are:\n",
    "\n",
    "`ItemLoader` and \n",
    "\n",
    "`Item`\n",
    "\n",
    "---\n",
    "\n"
   ]
  },
  {
   "cell_type": "markdown",
   "metadata": {},
   "source": [
    "### Item"
   ]
  },
  {
   "cell_type": "code",
   "execution_count": 2,
   "metadata": {
    "collapsed": true
   },
   "outputs": [],
   "source": [
    "from scrapy import Item, Field\n",
    "class SourceItem(Item):\n",
    "    publication_title = Field()\n",
    "    chief_editor = Field()\n",
    "    issn = Field()\n",
    "    description = Field()\n",
    "    home_url = Field()\n",
    "    coverimage = Field()\n",
    "    title = Field()"
   ]
  },
  {
   "cell_type": "code",
   "execution_count": 3,
   "metadata": {
    "collapsed": false
   },
   "outputs": [
    {
     "data": {
      "text/plain": [
       "True"
      ]
     },
     "execution_count": 3,
     "metadata": {},
     "output_type": "execute_result"
    }
   ],
   "source": [
    "# intialization\n",
    "item = SourceItem()\n",
    "isinstance(item, SourceItem)"
   ]
  },
  {
   "cell_type": "code",
   "execution_count": 4,
   "metadata": {
    "collapsed": false
   },
   "outputs": [
    {
     "data": {
      "text/plain": [
       "{'coverimage': 'imageurl', 'issn': '1234'}"
      ]
     },
     "execution_count": 4,
     "metadata": {},
     "output_type": "execute_result"
    }
   ],
   "source": [
    "# it acts in the way of dictionary\n",
    "item['issn'] = '1234'\n",
    "item['coverimage'] = 'imageurl'\n",
    "item"
   ]
  },
  {
   "cell_type": "markdown",
   "metadata": {},
   "source": [
    "### ItemLoader\n",
    "\n",
    "---\n",
    "`Item` matters when `ItemLoader` is used.\n",
    "\n",
    "---"
   ]
  },
  {
   "cell_type": "code",
   "execution_count": 5,
   "metadata": {
    "collapsed": true
   },
   "outputs": [],
   "source": [
    "from scrapy.loader import ItemLoader"
   ]
  },
  {
   "cell_type": "code",
   "execution_count": 7,
   "metadata": {
    "collapsed": true
   },
   "outputs": [],
   "source": [
    "# we need headers to disguise our bot as a browser\n",
    "\n",
    "headers = {\n",
    "    \"Connection\": \"keep-alive\",\n",
    "    \"Cache-Control\": \"max-age=0\",\n",
    "    \"Accept\": \"text/html,application/xhtml+xml,application/xml;q=0.9,image/webp,*/*;q=0.8\",\n",
    "    \"User-Agent\": \"Mozilla/5.0 (Windows NT 6.1; WOW64) AppleWebKit/537.36 (KHTML, like Gecko) Chrome/34.0.1847.131 Safari/537.36\",\n",
    "    \"Accept-Encoding\": \"gzip,deflate,sdch\",\n",
    "    \"Accept-Language\": \"zh-CN,zh;q=0.8,en-US;q=0.6,en;q=0.4,zh-TW;q=0.2\",\n",
    "}\n",
    "\n",
    "\n",
    "import requests\n",
    "from scrapy.http import TextResponse"
   ]
  },
  {
   "cell_type": "code",
   "execution_count": 9,
   "metadata": {
    "collapsed": false
   },
   "outputs": [
    {
     "data": {
      "text/plain": [
       "<200 https://www.journals.elsevier.com/decision-support-systems/>"
      ]
     },
     "execution_count": 9,
     "metadata": {},
     "output_type": "execute_result"
    }
   ],
   "source": [
    "r = requests.get('http://www.journals.elsevier.com/decision-support-systems/', \n",
    "                 headers = headers)\n",
    "\n",
    "response = TextResponse(r.url, body = r.text, encoding = 'utf-8')\n",
    "\n",
    "# there is a response we need to handle\n",
    "response"
   ]
  },
  {
   "cell_type": "code",
   "execution_count": 10,
   "metadata": {
    "collapsed": false
   },
   "outputs": [
    {
     "data": {
      "text/plain": [
       "scrapy.loader.ItemLoader"
      ]
     },
     "execution_count": 10,
     "metadata": {},
     "output_type": "execute_result"
    }
   ],
   "source": [
    "# Initialization with Item and response\n",
    "# Item, (here is SourceItem()), it the container ItemLoader uses\n",
    "# response, is the raw material ItemLoader to exploit\n",
    "l = ItemLoader(item = SourceItem(), response = response)\n",
    "type(l)"
   ]
  },
  {
   "cell_type": "markdown",
   "metadata": {},
   "source": [
    "---\n",
    "\n",
    "`l`, the object of `ItemLoader`, has many methods.\n",
    "\n",
    "I am going to introduct three of them.\n",
    "\n",
    "`l.get_xpath`\n",
    "\n",
    "`l.add_xpath`\n",
    "\n",
    "`l.add_value`\n",
    "\n",
    "---"
   ]
  },
  {
   "cell_type": "code",
   "execution_count": 12,
   "metadata": {
    "collapsed": true
   },
   "outputs": [],
   "source": [
    "# here are the xpaths for the items\n",
    "issn_xpath = '//*[@class=\"issn keyword\"]/span/text()'\n",
    "chief_editor_xpath = '//*[@id=\"Title\"]//span[@class=\"nowrap\"]/text()'\n",
    "title_xpath = '//*[@id=\"Title\"]//h1[@itemprop=\"name\"]/text()'\n",
    "description_xpath = '//*[@class=\"publication-description\"]//p'\n",
    "coverimage_xpath = '//*[@id=\"Title\"]//img[@class=\"cover-img\"]/@src'"
   ]
  },
  {
   "cell_type": "code",
   "execution_count": 13,
   "metadata": {
    "collapsed": false
   },
   "outputs": [
    {
     "data": {
      "text/plain": [
       "['0167-9236']"
      ]
     },
     "execution_count": 13,
     "metadata": {},
     "output_type": "execute_result"
    }
   ],
   "source": [
    "# notice that l = ItemLoader(item = SourceItem(), response = response)\n",
    "# so l can handle with response \n",
    "# where l.get_xpath can do the same thing as response.xpath().extract()\n",
    "\n",
    "response.xpath(issn_xpath).extract()"
   ]
  },
  {
   "cell_type": "code",
   "execution_count": 14,
   "metadata": {
    "collapsed": false
   },
   "outputs": [
    {
     "data": {
      "text/plain": [
       "['0167-9236']"
      ]
     },
     "execution_count": 14,
     "metadata": {},
     "output_type": "execute_result"
    }
   ],
   "source": [
    "# you can interprete l.get_xpath() as get value via xpath.\n",
    "l.get_xpath(issn_xpath)"
   ]
  },
  {
   "cell_type": "code",
   "execution_count": 15,
   "metadata": {
    "collapsed": false
   },
   "outputs": [
    {
     "data": {
      "text/plain": [
       "{'issn': ['0167-9236']}"
      ]
     },
     "execution_count": 15,
     "metadata": {},
     "output_type": "execute_result"
    }
   ],
   "source": [
    "# this show waht is l.add_value()\n",
    "\n",
    "# but with item first.\n",
    "\n",
    "# initializaiton, did as In[17] unit\n",
    "item = SourceItem()\n",
    "\n",
    "# then store the issn in the SourceItem object: item\n",
    "item['issn'] = response.xpath(issn_xpath).extract()\n",
    "item"
   ]
  },
  {
   "cell_type": "code",
   "execution_count": 16,
   "metadata": {
    "collapsed": false
   },
   "outputs": [
    {
     "data": {
      "text/plain": [
       "{'issn': ['0167-9236']}"
      ]
     },
     "execution_count": 16,
     "metadata": {},
     "output_type": "execute_result"
    }
   ],
   "source": [
    "# l.add_value can do the same thing\n",
    "l.add_value('issn', l.get_xpath(issn_xpath))\n",
    "\n",
    "# show the item.\n",
    "# this item will return an enriched item\n",
    "l.load_item()"
   ]
  },
  {
   "cell_type": "code",
   "execution_count": 17,
   "metadata": {
    "collapsed": false
   },
   "outputs": [
    {
     "data": {
      "text/plain": [
       "{'home_url': ['https://www.journals.elsevier.com/decision-support-systems/'],\n",
       " 'issn': ['0167-9236']}"
      ]
     },
     "execution_count": 17,
     "metadata": {},
     "output_type": "execute_result"
    }
   ],
   "source": [
    "# you can add any value you want to the defined fields.\n",
    "# so you must fully consider the fields you defined in the item.\n",
    "\n",
    "l.add_value('home_url', response.url)\n",
    "l.load_item()"
   ]
  },
  {
   "cell_type": "code",
   "execution_count": 18,
   "metadata": {
    "collapsed": false
   },
   "outputs": [
    {
     "data": {
      "text/plain": [
       "{'home_url': ['https://www.journals.elsevier.com/decision-support-systems/'],\n",
       " 'issn': ['0167-9236', \"next source's url\"]}"
      ]
     },
     "execution_count": 18,
     "metadata": {},
     "output_type": "execute_result"
    }
   ],
   "source": [
    "# if you still add another value in 'issn', the new value will be appended.\n",
    "# such as\n",
    "newvalue = \"next source's url\"\n",
    "l.add_value('issn', newvalue)\n",
    "l.load_item()"
   ]
  },
  {
   "cell_type": "code",
   "execution_count": 19,
   "metadata": {
    "collapsed": true
   },
   "outputs": [],
   "source": [
    "# so every time you start to load anthor item, you should initialize a new object of the SourceItem\n",
    "# (say, for this source, all the value are loaded in this item.)\n",
    "# (you should prepare a new item for the next source)\n",
    "\n",
    "l = ItemLoader(item = SourceItem(), response = response)"
   ]
  },
  {
   "cell_type": "code",
   "execution_count": 20,
   "metadata": {
    "collapsed": false
   },
   "outputs": [
    {
     "data": {
      "text/plain": [
       "{'issn': ['0167-9236']}"
      ]
     },
     "execution_count": 20,
     "metadata": {},
     "output_type": "execute_result"
    }
   ],
   "source": [
    "# for l.add_xpath()\n",
    "# it combines l.get_xpath() and l.add_value()\n",
    "# you can interprete l.add_xpath() as add the value got via xpath to the item's field.\n",
    "\n",
    "l.add_xpath('issn', issn_xpath)\n",
    "l.load_item()"
   ]
  },
  {
   "cell_type": "code",
   "execution_count": 21,
   "metadata": {
    "collapsed": false,
    "scrolled": true
   },
   "outputs": [
    {
     "data": {
      "text/plain": [
       "{'chief_editor': ['James R. Marsden'],\n",
       " 'coverimage': ['https://www.elsevier.com/__data/cover_img/505540.gif'],\n",
       " 'description': ['<p>The common thread of articles published in <em>Decision '\n",
       "                 'Support Systems</em> is their relevance to theoretical and '\n",
       "                 'technical issues in the support of enhanced decision making. '\n",
       "                 'The areas addressed may include foundations, functionality, '\n",
       "                 'interfaces, implementation, impacts, and evaluation of '\n",
       "                 'decision support systems...</p>',\n",
       "                 '<p>The common thread of articles published in <em>Decision '\n",
       "                 'Support Systems</em> is their relevance to theoretical and '\n",
       "                 'technical issues in the support of enhanced decision making. '\n",
       "                 'The areas addressed may include foundations, functionality, '\n",
       "                 'interfaces, implementation, impacts, and evaluation of '\n",
       "                 'decision support systems (DSSs). Manuscripts may draw from '\n",
       "                 'diverse methods and methodologies, including those from '\n",
       "                 'decision theory, economics, econometrics, statistics, '\n",
       "                 'computer supported cooperative work, data base management, '\n",
       "                 'linguistics, management science, mathematical modeling, '\n",
       "                 'operations management, cognitive science, psychology, user '\n",
       "                 'interface management, and others. However, a manuscript '\n",
       "                 'focused on direct contributions to any of these related '\n",
       "                 'areas should be submitted to an outlet appropriate to  the '\n",
       "                 'specific area.</p>',\n",
       "                 '<p>  Examples of research topics that would be appropriate '\n",
       "                 'for <em>Decision Support Systems</em> include the '\n",
       "                 'following:</p>',\n",
       "                 '<p>1. <b>DSS Foundations</b> e.g. principles, concepts, and '\n",
       "                 'theories of enhanced decision making; formal languages and '\n",
       "                 'research methods enabling improvements in decision making. '\n",
       "                 'It is important that theory validation be carefully '\n",
       "                 'addressed.</p>',\n",
       "                 '<p> 2. <b>DSS Functionality</b> e.g. methods, tools, and '\n",
       "                 'techniques for developing thefunctional aspects of enhanced '\n",
       "                 'decision making; solver, model, and/or data management in '\n",
       "                 'DSSs; rule formulation and management in DSSs; DSS '\n",
       "                 'development and use in computer supported cooperative work, '\n",
       "                 'negotiation, research and product.</p>',\n",
       "                 '<p>3. <b>DSS Interfaces</b> e.g. methods, tools, and '\n",
       "                 'techniques for designing and developing DSS interfaces; '\n",
       "                 'development, management, and presentation of knowledge in a '\n",
       "                 \"DSS;  coordination of a DSS's interface with its \"\n",
       "                 'functionality.</p>',\n",
       "                 '<p> 4. <b>DSS Implementation</b> - experiences in DSS '\n",
       "                 'development and utilization; DSS management and updating; '\n",
       "                 'DSS instruction/training.  A critical consideration must be '\n",
       "                 'how specific experiences provide more general '\n",
       "                 'implications.</p>',\n",
       "                 '<p>  5. <b>DSS Evaluation and Impact</b> e.g. evaluation '\n",
       "                 'metrics and processes; DSS impact on decision makers, '\n",
       "                 'organizational processes and performance.</p>'],\n",
       " 'home_url': ['https://www.journals.elsevier.com/decision-support-systems/'],\n",
       " 'issn': ['0167-9236'],\n",
       " 'publication_title': ['Decision Support Systems']}"
      ]
     },
     "execution_count": 21,
     "metadata": {},
     "output_type": "execute_result"
    }
   ],
   "source": [
    "# based on the same logic\n",
    "l.add_xpath('chief_editor', chief_editor_xpath)\n",
    "l.add_xpath('coverimage', coverimage_xpath)\n",
    "l.add_xpath('description', description_xpath)\n",
    "publication_title = l.get_xpath(title_xpath)\n",
    "l.add_value('publication_title', publication_title)\n",
    "l.add_value('home_url', response.url)\n",
    "l.load_item()"
   ]
  },
  {
   "cell_type": "code",
   "execution_count": 23,
   "metadata": {
    "collapsed": false
   },
   "outputs": [
    {
     "data": {
      "text/plain": [
       "['0167-9236']"
      ]
     },
     "execution_count": 23,
     "metadata": {},
     "output_type": "execute_result"
    }
   ],
   "source": [
    "# let's see the item we got\n",
    "a = l.load_item()\n",
    "a['issn']\n",
    "# the value is a list\n",
    "\n",
    "# sometimes, the returned list maybe contain many elements\n",
    "\n",
    "# what is we just want the first one of them?\n"
   ]
  },
  {
   "cell_type": "markdown",
   "metadata": {},
   "source": [
    "#### Processor\n",
    "\n",
    "---\n",
    "\n",
    "In order to get clean data, we need anthor tool\n",
    "\n",
    "`Processor`\n",
    "\n",
    "---"
   ]
  },
  {
   "cell_type": "code",
   "execution_count": 24,
   "metadata": {
    "collapsed": true
   },
   "outputs": [],
   "source": [
    "from scrapy.loader.processors import Join, TakeFirst"
   ]
  },
  {
   "cell_type": "code",
   "execution_count": 25,
   "metadata": {
    "collapsed": false
   },
   "outputs": [
    {
     "name": "stdout",
     "output_type": "stream",
     "text": [
      "<class 'type'>\n",
      "<class 'scrapy.loader.processors.TakeFirst'>\n"
     ]
    }
   ],
   "source": [
    "print(type(TakeFirst))\n",
    "\n",
    "# Join is a class, TakeFirst is also a class\n",
    "# when we initialize it, we will get an object, and the object is a function\n",
    "\n",
    "tf = TakeFirst()\n",
    "print(type(tf))"
   ]
  },
  {
   "cell_type": "code",
   "execution_count": 27,
   "metadata": {
    "collapsed": false
   },
   "outputs": [
    {
     "name": "stdout",
     "output_type": "stream",
     "text": [
      "['0167-9236', '0167-9236']\n"
     ]
    },
    {
     "data": {
      "text/plain": [
       "'0167-9236'"
      ]
     },
     "execution_count": 27,
     "metadata": {},
     "output_type": "execute_result"
    }
   ],
   "source": [
    "# let's see how tf works \n",
    "\n",
    "a = l.get_xpath(issn_xpath)\n",
    "\n",
    "a.append(a[0])\n",
    "print(a)\n",
    "\n",
    "# have a look at the results, you will find the first element of the list is returned.\n",
    "tf(a)"
   ]
  },
  {
   "cell_type": "code",
   "execution_count": 28,
   "metadata": {
    "collapsed": false
   },
   "outputs": [
    {
     "name": "stdout",
     "output_type": "stream",
     "text": [
      "['0167-9236', '0167-9236']\n"
     ]
    },
    {
     "data": {
      "text/plain": [
       "'0167-9236 0167-9236'"
      ]
     },
     "execution_count": 28,
     "metadata": {},
     "output_type": "execute_result"
    }
   ],
   "source": [
    "# let's see how Join works\n",
    "\n",
    "join = Join()\n",
    "print(a)\n",
    "\n",
    "# combine all the elements in the list as a string.\n",
    "join(a)"
   ]
  },
  {
   "cell_type": "code",
   "execution_count": 29,
   "metadata": {
    "collapsed": false
   },
   "outputs": [
    {
     "data": {
      "text/plain": [
       "'0167-9236'"
      ]
     },
     "execution_count": 29,
     "metadata": {},
     "output_type": "execute_result"
    }
   ],
   "source": [
    "# actually, we can combine them\n",
    "\n",
    "# we initialize a new one\n",
    "l = ItemLoader(item = SourceItem(), response = response)\n",
    "\n",
    "# the logics is, first, get a list of value via xpath.\n",
    "# then convey the returned list to the function join()\n",
    "# return the value\n",
    "l.get_xpath(issn_xpath, join)\n",
    "\n"
   ]
  },
  {
   "cell_type": "code",
   "execution_count": 33,
   "metadata": {
    "collapsed": true
   },
   "outputs": [],
   "source": [
    "# we can also define our own function\n",
    "# and apply it to the ItemLoader\n",
    "import re\n",
    "\n",
    "# this function is used to strip the html tags\n",
    "def cleanhtml(raw_html):\n",
    "    cleanr = re.compile('<.*?>')\n",
    "    cleantext = re.sub(cleanr, '', raw_html)\n",
    "    return cleantext"
   ]
  },
  {
   "cell_type": "code",
   "execution_count": 34,
   "metadata": {
    "collapsed": false
   },
   "outputs": [
    {
     "data": {
      "text/plain": [
       "['<p>The common thread of articles published in <em>Decision Support Systems</em> is their relevance to theoretical and technical issues in the support of enhanced decision making. The areas addressed may include foundations, functionality, interfaces, implementation, impacts, and evaluation of decision support systems...</p>',\n",
       " '<p>The common thread of articles published in <em>Decision Support Systems</em> is their relevance to theoretical and technical issues in the support of enhanced decision making. The areas addressed may include foundations, functionality, interfaces, implementation, impacts, and evaluation of decision support systems (DSSs). Manuscripts may draw from diverse methods and methodologies, including those from decision theory, economics, econometrics, statistics, computer supported cooperative work, data base management, linguistics, management science, mathematical modeling, operations management, cognitive science, psychology, user interface management, and others. However, a manuscript focused on direct contributions to any of these related areas should be submitted to an outlet appropriate to  the specific area.</p>',\n",
       " '<p>  Examples of research topics that would be appropriate for <em>Decision Support Systems</em> include the following:</p>',\n",
       " '<p>1. <b>DSS Foundations</b> e.g. principles, concepts, and theories of enhanced decision making; formal languages and research methods enabling improvements in decision making. It is important that theory validation be carefully addressed.</p>',\n",
       " '<p> 2. <b>DSS Functionality</b> e.g. methods, tools, and techniques for developing thefunctional aspects of enhanced decision making; solver, model, and/or data management in DSSs; rule formulation and management in DSSs; DSS development and use in computer supported cooperative work, negotiation, research and product.</p>',\n",
       " \"<p>3. <b>DSS Interfaces</b> e.g. methods, tools, and techniques for designing and developing DSS interfaces; development, management, and presentation of knowledge in a DSS;  coordination of a DSS's interface with its functionality.</p>\",\n",
       " '<p> 4. <b>DSS Implementation</b> - experiences in DSS development and utilization; DSS management and updating; DSS instruction/training.  A critical consideration must be how specific experiences provide more general implications.</p>',\n",
       " '<p>  5. <b>DSS Evaluation and Impact</b> e.g. evaluation metrics and processes; DSS impact on decision makers, organizational processes and performance.</p>']"
      ]
     },
     "execution_count": 34,
     "metadata": {},
     "output_type": "execute_result"
    }
   ],
   "source": [
    "# before the usage\n",
    "l.get_xpath(description_xpath)"
   ]
  },
  {
   "cell_type": "code",
   "execution_count": 35,
   "metadata": {
    "collapsed": false
   },
   "outputs": [
    {
     "data": {
      "text/plain": [
       "\"The common thread of articles published in Decision Support Systems is their relevance to theoretical and technical issues in the support of enhanced decision making. The areas addressed may include foundations, functionality, interfaces, implementation, impacts, and evaluation of decision support systems... The common thread of articles published in Decision Support Systems is their relevance to theoretical and technical issues in the support of enhanced decision making. The areas addressed may include foundations, functionality, interfaces, implementation, impacts, and evaluation of decision support systems (DSSs). Manuscripts may draw from diverse methods and methodologies, including those from decision theory, economics, econometrics, statistics, computer supported cooperative work, data base management, linguistics, management science, mathematical modeling, operations management, cognitive science, psychology, user interface management, and others. However, a manuscript focused on direct contributions to any of these related areas should be submitted to an outlet appropriate to  the specific area.   Examples of research topics that would be appropriate for Decision Support Systems include the following: 1. DSS Foundations e.g. principles, concepts, and theories of enhanced decision making; formal languages and research methods enabling improvements in decision making. It is important that theory validation be carefully addressed.  2. DSS Functionality e.g. methods, tools, and techniques for developing thefunctional aspects of enhanced decision making; solver, model, and/or data management in DSSs; rule formulation and management in DSSs; DSS development and use in computer supported cooperative work, negotiation, research and product. 3. DSS Interfaces e.g. methods, tools, and techniques for designing and developing DSS interfaces; development, management, and presentation of knowledge in a DSS;  coordination of a DSS's interface with its functionality.  4. DSS Implementation - experiences in DSS development and utilization; DSS management and updating; DSS instruction/training.  A critical consideration must be how specific experiences provide more general implications.   5. DSS Evaluation and Impact e.g. evaluation metrics and processes; DSS impact on decision makers, organizational processes and performance.\""
      ]
     },
     "execution_count": 35,
     "metadata": {},
     "output_type": "execute_result"
    }
   ],
   "source": [
    "# after the usage\n",
    "\n",
    "\n",
    "l.get_xpath(description_xpath, Join(), cleanhtml)\n",
    "\n",
    "# as join = Join()\n",
    "# this code is the same as \n",
    "\n",
    "# l.get_xpath(description_xpath, join, cleanhtml)\n",
    "\n",
    "\n",
    "# the logics is:\n",
    "# first get a list contains the selected values via xpath.\n",
    "# then convery this list to function Join() (join)\n",
    "# this function joins the elements in this list, return a string\n",
    "# then this string is conveyed to function cleanhtml\n",
    "# cleanhtml return a new string without html tags."
   ]
  },
  {
   "cell_type": "markdown",
   "metadata": {},
   "source": [
    "----\n",
    "\n",
    "Use \n",
    "\n",
    "`l.add_xpath`\n",
    "\n",
    "`l.default_output_method`\n",
    "\n",
    "----"
   ]
  },
  {
   "cell_type": "code",
   "execution_count": 36,
   "metadata": {
    "collapsed": false
   },
   "outputs": [
    {
     "data": {
      "text/plain": [
       "{'issn': ['0167-9236']}"
      ]
     },
     "execution_count": 36,
     "metadata": {},
     "output_type": "execute_result"
    }
   ],
   "source": [
    "# get a new Itemloader object - l\n",
    "l = ItemLoader(item = SourceItem(), response = response)\n",
    "\n",
    "# this is also applied in l.add_xpath\n",
    "l.add_xpath('issn', issn_xpath, tf)\n",
    "\n",
    "# however, you find the returned value is still a list\n",
    "l.load_item()"
   ]
  },
  {
   "cell_type": "code",
   "execution_count": 37,
   "metadata": {
    "collapsed": false
   },
   "outputs": [
    {
     "data": {
      "text/plain": [
       "{'issn': '0167-9236'}"
      ]
     },
     "execution_count": 37,
     "metadata": {},
     "output_type": "execute_result"
    }
   ],
   "source": [
    "# In this case, to get the first element in list\n",
    "# we should use the default_output_method\n",
    "from scrapy.loader import ItemLoader\n",
    "from scrapy.loader.processors import Join, TakeFirst\n",
    "l = ItemLoader(item = SourceItem(), response = response)\n",
    "l.default_output_processor = TakeFirst()\n",
    "\n",
    "\n",
    "l.add_xpath('issn', issn_xpath, TakeFirst())\n",
    "l.load_item()\n",
    "\n",
    "\n",
    "# you can compare the result with the ones of last unit."
   ]
  },
  {
   "cell_type": "code",
   "execution_count": 38,
   "metadata": {
    "collapsed": false
   },
   "outputs": [
    {
     "data": {
      "text/plain": [
       "{'chief_editor': 'James R. Marsden',\n",
       " 'coverimage': 'https://www.elsevier.com/__data/cover_img/505540.gif',\n",
       " 'description': 'The common thread of articles published in Decision Support '\n",
       "                'Systems is their relevance to theoretical and technical '\n",
       "                'issues in the support of enhanced decision making. The areas '\n",
       "                'addressed may include foundations, functionality, interfaces, '\n",
       "                'implementation, impacts, and evaluation of decision support '\n",
       "                'systems... The common thread of articles published in '\n",
       "                'Decision Support Systems is their relevance to theoretical '\n",
       "                'and technical issues in the support of enhanced decision '\n",
       "                'making. The areas addressed may include foundations, '\n",
       "                'functionality, interfaces, implementation, impacts, and '\n",
       "                'evaluation of decision support systems (DSSs). Manuscripts '\n",
       "                'may draw from diverse methods and methodologies, including '\n",
       "                'those from decision theory, economics, econometrics, '\n",
       "                'statistics, computer supported cooperative work, data base '\n",
       "                'management, linguistics, management science, mathematical '\n",
       "                'modeling, operations management, cognitive science, '\n",
       "                'psychology, user interface management, and others. However, a '\n",
       "                'manuscript focused on direct contributions to any of these '\n",
       "                'related areas should be submitted to an outlet appropriate '\n",
       "                'to  the specific area.   Examples of research topics that '\n",
       "                'would be appropriate for Decision Support Systems include the '\n",
       "                'following: 1. DSS Foundations e.g. principles, concepts, and '\n",
       "                'theories of enhanced decision making; formal languages and '\n",
       "                'research methods enabling improvements in decision making. It '\n",
       "                'is important that theory validation be carefully addressed.  '\n",
       "                '2. DSS Functionality e.g. methods, tools, and techniques for '\n",
       "                'developing thefunctional aspects of enhanced decision making; '\n",
       "                'solver, model, and/or data management in DSSs; rule '\n",
       "                'formulation and management in DSSs; DSS development and use '\n",
       "                'in computer supported cooperative work, negotiation, research '\n",
       "                'and product. 3. DSS Interfaces e.g. methods, tools, and '\n",
       "                'techniques for designing and developing DSS interfaces; '\n",
       "                'development, management, and presentation of knowledge in a '\n",
       "                \"DSS;  coordination of a DSS's interface with its \"\n",
       "                'functionality.  4. DSS Implementation - experiences in DSS '\n",
       "                'development and utilization; DSS management and updating; DSS '\n",
       "                'instruction/training.  A critical consideration must be how '\n",
       "                'specific experiences provide more general implications.   5. '\n",
       "                'DSS Evaluation and Impact e.g. evaluation metrics and '\n",
       "                'processes; DSS impact on decision makers, organizational '\n",
       "                'processes and performance.',\n",
       " 'home_url': 'https://www.journals.elsevier.com/decision-support-systems/',\n",
       " 'issn': '0167-9236',\n",
       " 'publication_title': 'Decision Support Systems'}"
      ]
     },
     "execution_count": 38,
     "metadata": {},
     "output_type": "execute_result"
    }
   ],
   "source": [
    "# based on this logics, we can get a clean item here.\n",
    "\n",
    "from scrapy.loader import ItemLoader\n",
    "from scrapy.loader.processors import Join, TakeFirst\n",
    "l = ItemLoader(item = SourceItem(), response = response)\n",
    "l.default_output_processor = TakeFirst()\n",
    "\n",
    "# issn\n",
    "l.add_xpath('issn', issn_xpath)\n",
    "\n",
    "# chief_editor\n",
    "l.add_xpath('chief_editor', chief_editor_xpath)\n",
    "\n",
    "# coverimage\n",
    "l.add_xpath('coverimage', coverimage_xpath)\n",
    "\n",
    "# description\n",
    "# notice Join() and cleanhtml here\n",
    "# refer to the units above.\n",
    "l.add_xpath('description', description_xpath, Join(), cleanhtml)\n",
    "\n",
    "# publication_title\n",
    "publication_title = l.get_xpath(title_xpath)\n",
    "l.add_value('publication_title', publication_title)\n",
    "\n",
    "# home_url\n",
    "l.add_value('home_url', response.url)\n",
    "l.load_item()\n",
    "\n",
    "\n",
    "# relatively cleaner now!"
   ]
  },
  {
   "cell_type": "code",
   "execution_count": null,
   "metadata": {
    "collapsed": true
   },
   "outputs": [],
   "source": []
  }
 ],
 "metadata": {
  "kernelspec": {
   "display_name": "Python [default]",
   "language": "python",
   "name": "python3"
  },
  "language_info": {
   "codemirror_mode": {
    "name": "ipython",
    "version": 3
   },
   "file_extension": ".py",
   "mimetype": "text/x-python",
   "name": "python",
   "nbconvert_exporter": "python",
   "pygments_lexer": "ipython3",
   "version": "3.5.2"
  }
 },
 "nbformat": 4,
 "nbformat_minor": 1
}
