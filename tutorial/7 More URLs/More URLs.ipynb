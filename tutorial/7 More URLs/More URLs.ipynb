{
 "cells": [
  {
   "cell_type": "markdown",
   "metadata": {},
   "source": [
    "# More URLs"
   ]
  },
  {
   "cell_type": "markdown",
   "metadata": {},
   "source": [
    "Our object, is a journal in sciencedirect website.\n",
    "\n",
    "Now, we want to get all the URLs for every paper of this journal.\n",
    "\n",
    "Do this step by step.\n",
    "\n",
    "First, we come from index page:\n",
    "\n",
    "`http://www.journals.elsevier.com/decision-support-systems/`\n",
    "\n",
    "Second, we come to the volume page:\n",
    "\n",
    "`http://www.sciencedirect.com/science/journal/01679236/70`\n",
    "\n",
    "(there are many volume pages, and from each volume page, we can get documents)\n",
    "\n",
    "Third, we come to the document page:\n",
    "\n",
    "`http://www.sciencedirect.com/science/article/pii/S0167923616301075`\n",
    "\n",
    "\n"
   ]
  },
  {
   "cell_type": "markdown",
   "metadata": {},
   "source": [
    "**AIM**:\n",
    "    \n",
    "    This section's aim is simple and straightforwords.\n",
    "    \n",
    "    Get all document pages' urls of this journal."
   ]
  },
  {
   "cell_type": "markdown",
   "metadata": {},
   "source": [
    "## I Acheive it in shell"
   ]
  },
  {
   "cell_type": "markdown",
   "metadata": {},
   "source": [
    "## 1 Index Page"
   ]
  },
  {
   "cell_type": "markdown",
   "metadata": {},
   "source": [
    "![](index.png)"
   ]
  },
  {
   "cell_type": "code",
   "execution_count": 1,
   "metadata": {
    "collapsed": false
   },
   "outputs": [
    {
     "data": {
      "text/plain": [
       "<200 https://www.journals.elsevier.com/decision-support-systems/>"
      ]
     },
     "execution_count": 1,
     "metadata": {},
     "output_type": "execute_result"
    }
   ],
   "source": [
    "# we need headers to disguise our bot as a browser\n",
    "\n",
    "headers = {\n",
    "    \"Connection\": \"keep-alive\",\n",
    "    \"Cache-Control\": \"max-age=0\",\n",
    "    \"Accept\": \"text/html,application/xhtml+xml,application/xml;q=0.9,image/webp,*/*;q=0.8\",\n",
    "    \"User-Agent\": \"Mozilla/5.0 (Windows NT 6.1; WOW64) AppleWebKit/537.36 (KHTML, like Gecko) Chrome/34.0.1847.131 Safari/537.36\",\n",
    "    \"Accept-Encoding\": \"gzip,deflate,sdch\",\n",
    "    \"Accept-Language\": \"zh-CN,zh;q=0.8,en-US;q=0.6,en;q=0.4,zh-TW;q=0.2\",\n",
    "}\n",
    "\n",
    "import requests\n",
    "from scrapy.http import TextResponse\n",
    "\n",
    "r = requests.get('http://www.journals.elsevier.com/decision-support-systems/', \n",
    "                 headers = headers)\n",
    "\n",
    "response = TextResponse(r.url, body = r.text, encoding = 'utf-8')\n",
    "\n",
    "# there is a response we need to handle\n",
    "response"
   ]
  },
  {
   "cell_type": "markdown",
   "metadata": {},
   "source": [
    "## 2 Volume Page"
   ]
  },
  {
   "cell_type": "markdown",
   "metadata": {},
   "source": [
    "![](volume.png)"
   ]
  },
  {
   "cell_type": "code",
   "execution_count": 101,
   "metadata": {
    "collapsed": false
   },
   "outputs": [
    {
     "data": {
      "text/plain": [
       "'http://www.sciencedirect.com/science/journal/01679236/open-access'"
      ]
     },
     "execution_count": 101,
     "metadata": {},
     "output_type": "execute_result"
    }
   ],
   "source": [
    "base_url = 'http://www.sciencedirect.com/science/journal/01679236/open-access'\n",
    "base_url"
   ]
  },
  {
   "cell_type": "code",
   "execution_count": 102,
   "metadata": {
    "collapsed": false
   },
   "outputs": [],
   "source": [
    "url = base_url"
   ]
  },
  {
   "cell_type": "code",
   "execution_count": 103,
   "metadata": {
    "collapsed": false
   },
   "outputs": [
    {
     "data": {
      "text/plain": [
       "<200 http://www.sciencedirect.com/science/journal/01679236/open-access>"
      ]
     },
     "execution_count": 103,
     "metadata": {},
     "output_type": "execute_result"
    }
   ],
   "source": [
    "r = requests.get(url, headers = headers)\n",
    "response = TextResponse(r.url, body = r.text, encoding = 'utf-8')\n",
    "response"
   ]
  },
  {
   "cell_type": "code",
   "execution_count": 104,
   "metadata": {
    "collapsed": true
   },
   "outputs": [],
   "source": [
    "volume_xpath1 = '//div[@id=\"volumeIssueData\"]/ol/li/a[@class=\"volLink\"]/@href'"
   ]
  },
  {
   "cell_type": "code",
   "execution_count": 105,
   "metadata": {
    "collapsed": false
   },
   "outputs": [
    {
     "data": {
      "text/plain": [
       "['/science/journal/01679236/93',\n",
       " '/science/journal/01679236/90',\n",
       " '/science/journal/01679236/80',\n",
       " '/science/journal/01679236/70',\n",
       " '/science/journal/01679236/60',\n",
       " '/science/journal/01679236/50',\n",
       " '/science/journal/01679236/40',\n",
       " '/science/journal/01679236/30',\n",
       " '/science/journal/01679236/20',\n",
       " '/science/journal/01679236/10']"
      ]
     },
     "execution_count": 105,
     "metadata": {},
     "output_type": "execute_result"
    }
   ],
   "source": [
    "response.xpath(volume_xpath1).extract()"
   ]
  },
  {
   "cell_type": "code",
   "execution_count": 131,
   "metadata": {
    "collapsed": false
   },
   "outputs": [
    {
     "data": {
      "text/plain": [
       "['http://www.sciencedirect.com/science/journal/01679236/90',\n",
       " 'http://www.sciencedirect.com/science/journal/01679236/80',\n",
       " 'http://www.sciencedirect.com/science/journal/01679236/70',\n",
       " 'http://www.sciencedirect.com/science/journal/01679236/60',\n",
       " 'http://www.sciencedirect.com/science/journal/01679236/50',\n",
       " 'http://www.sciencedirect.com/science/journal/01679236/40',\n",
       " 'http://www.sciencedirect.com/science/journal/01679236/30',\n",
       " 'http://www.sciencedirect.com/science/journal/01679236/20',\n",
       " 'http://www.sciencedirect.com/science/journal/01679236/10']"
      ]
     },
     "execution_count": 131,
     "metadata": {},
     "output_type": "execute_result"
    }
   ],
   "source": [
    "# complete them to the complete urls\n",
    "urls1 = ['http://www.sciencedirect.com'+ i for i in response.xpath(volume_xpath1).extract()]\n",
    "urls1"
   ]
  },
  {
   "cell_type": "markdown",
   "metadata": {},
   "source": [
    "### More deeper"
   ]
  },
  {
   "cell_type": "markdown",
   "metadata": {},
   "source": [
    "#### The early example"
   ]
  },
  {
   "cell_type": "code",
   "execution_count": 117,
   "metadata": {
    "collapsed": false
   },
   "outputs": [
    {
     "data": {
      "text/plain": [
       "'http://www.sciencedirect.com/science/journal/01679236/93'"
      ]
     },
     "execution_count": 117,
     "metadata": {},
     "output_type": "execute_result"
    }
   ],
   "source": [
    "url93 = urls1[0]\n",
    "url93"
   ]
  },
  {
   "cell_type": "code",
   "execution_count": 118,
   "metadata": {
    "collapsed": false
   },
   "outputs": [
    {
     "data": {
      "text/plain": [
       "<200 http://www.sciencedirect.com/science/journal/01679236/93>"
      ]
     },
     "execution_count": 118,
     "metadata": {},
     "output_type": "execute_result"
    }
   ],
   "source": [
    "r = requests.get(url93, headers = headers)\n",
    "\n",
    "response = TextResponse(r.url, body = r.text, encoding = 'utf-8')\n",
    "response"
   ]
  },
  {
   "cell_type": "code",
   "execution_count": 119,
   "metadata": {
    "collapsed": false
   },
   "outputs": [
    {
     "data": {
      "text/plain": [
       "'//div[@id=\"volumeIssueData\"]/ol//div[@class=\"txt currentVolumes\"]/a/@href'"
      ]
     },
     "execution_count": 119,
     "metadata": {},
     "output_type": "execute_result"
    }
   ],
   "source": [
    "volume_xpath2 = '//div[@id=\"volumeIssueData\"]/ol//div[@class=\"txt currentVolumes\"]/a/@href'\n",
    "volume_xpath2"
   ]
  },
  {
   "cell_type": "code",
   "execution_count": 120,
   "metadata": {
    "collapsed": false
   },
   "outputs": [
    {
     "data": {
      "text/plain": [
       "['/science/journal/01679236/92', '/science/journal/01679236/91']"
      ]
     },
     "execution_count": 120,
     "metadata": {},
     "output_type": "execute_result"
    }
   ],
   "source": [
    "response.xpath(volume_xpath2).extract()"
   ]
  },
  {
   "cell_type": "code",
   "execution_count": 121,
   "metadata": {
    "collapsed": false
   },
   "outputs": [
    {
     "data": {
      "text/plain": [
       "['http://www.sciencedirect.com/science/journal/01679236/92',\n",
       " 'http://www.sciencedirect.com/science/journal/01679236/91']"
      ]
     },
     "execution_count": 121,
     "metadata": {},
     "output_type": "execute_result"
    }
   ],
   "source": [
    "urls93 = [ 'http://www.sciencedirect.com' + i for i in response.xpath(volume_xpath2).extract()]\n",
    "urls93"
   ]
  },
  {
   "cell_type": "markdown",
   "metadata": {},
   "source": [
    "#### The old example\n",
    "\n",
    "---\n",
    "\n",
    "The old version of the journal, its volume also contained issues.\n",
    "\n",
    "---"
   ]
  },
  {
   "cell_type": "code",
   "execution_count": 122,
   "metadata": {
    "collapsed": false
   },
   "outputs": [
    {
     "data": {
      "text/plain": [
       "'http://www.sciencedirect.com/science/journal/01679236/10'"
      ]
     },
     "execution_count": 122,
     "metadata": {},
     "output_type": "execute_result"
    }
   ],
   "source": [
    "url10 = urls1[-1]\n",
    "url10"
   ]
  },
  {
   "cell_type": "code",
   "execution_count": 123,
   "metadata": {
    "collapsed": false
   },
   "outputs": [
    {
     "data": {
      "text/plain": [
       "<200 http://www.sciencedirect.com/science/journal/01679236/10>"
      ]
     },
     "execution_count": 123,
     "metadata": {},
     "output_type": "execute_result"
    }
   ],
   "source": [
    "r = requests.get(url10, headers = headers)\n",
    "\n",
    "response = TextResponse(r.url, body = r.text, encoding = 'utf-8')\n",
    "response"
   ]
  },
  {
   "cell_type": "code",
   "execution_count": 124,
   "metadata": {
    "collapsed": false,
    "scrolled": true
   },
   "outputs": [
    {
     "data": {
      "text/plain": [
       "['/science/journal/01679236/10/3',\n",
       " '/science/journal/01679236/10/2',\n",
       " '/science/journal/01679236/10/1',\n",
       " '/science/journal/01679236/9/4',\n",
       " '/science/journal/01679236/9/3',\n",
       " '/science/journal/01679236/9/2',\n",
       " '/science/journal/01679236/9/1',\n",
       " '/science/journal/01679236/8/6',\n",
       " '/science/journal/01679236/8/5',\n",
       " '/science/journal/01679236/8/4',\n",
       " '/science/journal/01679236/8/3',\n",
       " '/science/journal/01679236/8/2',\n",
       " '/science/journal/01679236/8/1',\n",
       " '/science/journal/01679236/7/4',\n",
       " '/science/journal/01679236/7/3',\n",
       " '/science/journal/01679236/7/2',\n",
       " '/science/journal/01679236/7/1',\n",
       " '/science/journal/01679236/6/4',\n",
       " '/science/journal/01679236/6/3',\n",
       " '/science/journal/01679236/6/2',\n",
       " '/science/journal/01679236/6/1',\n",
       " '/science/journal/01679236/5/4',\n",
       " '/science/journal/01679236/5/3',\n",
       " '/science/journal/01679236/5/2',\n",
       " '/science/journal/01679236/5/1',\n",
       " '/science/journal/01679236/4/4',\n",
       " '/science/journal/01679236/4/3',\n",
       " '/science/journal/01679236/4/2',\n",
       " '/science/journal/01679236/4/1',\n",
       " '/science/journal/01679236/3/4',\n",
       " '/science/journal/01679236/3/3',\n",
       " '/science/journal/01679236/3/2',\n",
       " '/science/journal/01679236/3/1',\n",
       " '/science/journal/01679236/2/4',\n",
       " '/science/journal/01679236/2/3',\n",
       " '/science/journal/01679236/2/2',\n",
       " '/science/journal/01679236/2/1',\n",
       " '/science/journal/01679236/1/4',\n",
       " '/science/journal/01679236/1/3',\n",
       " '/science/journal/01679236/1/2',\n",
       " '/science/journal/01679236/1/1']"
      ]
     },
     "execution_count": 124,
     "metadata": {},
     "output_type": "execute_result"
    }
   ],
   "source": [
    "response.xpath(volume_xpath2).extract()"
   ]
  },
  {
   "cell_type": "code",
   "execution_count": 125,
   "metadata": {
    "collapsed": false,
    "scrolled": true
   },
   "outputs": [
    {
     "data": {
      "text/plain": [
       "['http://www.sciencedirect.com/science/journal/01679236/10/3',\n",
       " 'http://www.sciencedirect.com/science/journal/01679236/10/2',\n",
       " 'http://www.sciencedirect.com/science/journal/01679236/10/1',\n",
       " 'http://www.sciencedirect.com/science/journal/01679236/9/4',\n",
       " 'http://www.sciencedirect.com/science/journal/01679236/9/3',\n",
       " 'http://www.sciencedirect.com/science/journal/01679236/9/2',\n",
       " 'http://www.sciencedirect.com/science/journal/01679236/9/1',\n",
       " 'http://www.sciencedirect.com/science/journal/01679236/8/6',\n",
       " 'http://www.sciencedirect.com/science/journal/01679236/8/5',\n",
       " 'http://www.sciencedirect.com/science/journal/01679236/8/4',\n",
       " 'http://www.sciencedirect.com/science/journal/01679236/8/3',\n",
       " 'http://www.sciencedirect.com/science/journal/01679236/8/2',\n",
       " 'http://www.sciencedirect.com/science/journal/01679236/8/1',\n",
       " 'http://www.sciencedirect.com/science/journal/01679236/7/4',\n",
       " 'http://www.sciencedirect.com/science/journal/01679236/7/3',\n",
       " 'http://www.sciencedirect.com/science/journal/01679236/7/2',\n",
       " 'http://www.sciencedirect.com/science/journal/01679236/7/1',\n",
       " 'http://www.sciencedirect.com/science/journal/01679236/6/4',\n",
       " 'http://www.sciencedirect.com/science/journal/01679236/6/3',\n",
       " 'http://www.sciencedirect.com/science/journal/01679236/6/2',\n",
       " 'http://www.sciencedirect.com/science/journal/01679236/6/1',\n",
       " 'http://www.sciencedirect.com/science/journal/01679236/5/4',\n",
       " 'http://www.sciencedirect.com/science/journal/01679236/5/3',\n",
       " 'http://www.sciencedirect.com/science/journal/01679236/5/2',\n",
       " 'http://www.sciencedirect.com/science/journal/01679236/5/1',\n",
       " 'http://www.sciencedirect.com/science/journal/01679236/4/4',\n",
       " 'http://www.sciencedirect.com/science/journal/01679236/4/3',\n",
       " 'http://www.sciencedirect.com/science/journal/01679236/4/2',\n",
       " 'http://www.sciencedirect.com/science/journal/01679236/4/1',\n",
       " 'http://www.sciencedirect.com/science/journal/01679236/3/4',\n",
       " 'http://www.sciencedirect.com/science/journal/01679236/3/3',\n",
       " 'http://www.sciencedirect.com/science/journal/01679236/3/2',\n",
       " 'http://www.sciencedirect.com/science/journal/01679236/3/1',\n",
       " 'http://www.sciencedirect.com/science/journal/01679236/2/4',\n",
       " 'http://www.sciencedirect.com/science/journal/01679236/2/3',\n",
       " 'http://www.sciencedirect.com/science/journal/01679236/2/2',\n",
       " 'http://www.sciencedirect.com/science/journal/01679236/2/1',\n",
       " 'http://www.sciencedirect.com/science/journal/01679236/1/4',\n",
       " 'http://www.sciencedirect.com/science/journal/01679236/1/3',\n",
       " 'http://www.sciencedirect.com/science/journal/01679236/1/2',\n",
       " 'http://www.sciencedirect.com/science/journal/01679236/1/1']"
      ]
     },
     "execution_count": 125,
     "metadata": {},
     "output_type": "execute_result"
    }
   ],
   "source": [
    "urls10 = [ 'http://www.sciencedirect.com' + i for i in response.xpath(volume_xpath2).extract()]\n",
    "urls10"
   ]
  },
  {
   "cell_type": "markdown",
   "metadata": {},
   "source": [
    "---\n",
    "\n",
    "By looping it\n",
    "\n",
    "We can get all the volume urls of this journal.\n",
    "\n",
    "---"
   ]
  },
  {
   "cell_type": "markdown",
   "metadata": {},
   "source": [
    "## Document Page\n",
    "\n",
    "---\n",
    "\n",
    "From `volume urls` to get `document urls`\n",
    "\n",
    "---"
   ]
  },
  {
   "cell_type": "markdown",
   "metadata": {},
   "source": [
    "![](document.png)"
   ]
  },
  {
   "cell_type": "code",
   "execution_count": 116,
   "metadata": {
    "collapsed": false
   },
   "outputs": [
    {
     "data": {
      "text/plain": [
       "['http://www.sciencedirect.com/science/journal/01679236/92',\n",
       " 'http://www.sciencedirect.com/science/journal/01679236/91']"
      ]
     },
     "execution_count": 116,
     "metadata": {},
     "output_type": "execute_result"
    }
   ],
   "source": [
    "urls93"
   ]
  },
  {
   "cell_type": "markdown",
   "metadata": {},
   "source": [
    "#### take one for example"
   ]
  },
  {
   "cell_type": "code",
   "execution_count": 128,
   "metadata": {
    "collapsed": false
   },
   "outputs": [
    {
     "data": {
      "text/plain": [
       "'http://www.sciencedirect.com/science/journal/01679236/92'"
      ]
     },
     "execution_count": 128,
     "metadata": {},
     "output_type": "execute_result"
    }
   ],
   "source": [
    "volume_url = urls93[0]\n",
    "volume_url"
   ]
  },
  {
   "cell_type": "code",
   "execution_count": 129,
   "metadata": {
    "collapsed": false
   },
   "outputs": [
    {
     "data": {
      "text/plain": [
       "<200 http://www.sciencedirect.com/science/journal/01679236/92>"
      ]
     },
     "execution_count": 129,
     "metadata": {},
     "output_type": "execute_result"
    }
   ],
   "source": [
    "r = requests.get(volume_url, headers = headers)\n",
    "\n",
    "response = TextResponse(r.url, body = r.text, encoding = 'utf-8')\n",
    "response"
   ]
  },
  {
   "cell_type": "code",
   "execution_count": 130,
   "metadata": {
    "collapsed": false
   },
   "outputs": [
    {
     "data": {
      "text/plain": [
       "['http://www.sciencedirect.com/science/article/pii/S0167923616301798',\n",
       " 'http://www.sciencedirect.com/science/article/pii/S0167923616301592',\n",
       " 'http://www.sciencedirect.com/science/article/pii/S0167923616301567',\n",
       " 'http://www.sciencedirect.com/science/article/pii/S0167923616301622',\n",
       " 'http://www.sciencedirect.com/science/article/pii/S0167923616301580',\n",
       " 'http://www.sciencedirect.com/science/article/pii/S0167923616301610',\n",
       " 'http://www.sciencedirect.com/science/article/pii/S0167923616301579',\n",
       " 'http://www.sciencedirect.com/science/article/pii/S0167923616301634',\n",
       " 'http://www.sciencedirect.com/science/article/pii/S0167923616301609',\n",
       " 'http://www.sciencedirect.com/science/article/pii/S0167923616301646']"
      ]
     },
     "execution_count": 130,
     "metadata": {},
     "output_type": "execute_result"
    }
   ],
   "source": [
    "# here what we get are the documents in this volume.\n",
    "\n",
    "article_xpath = '//ol[@class=\"articleList results\"]//a[@class=\"cLink artTitle S_C_artTitle \"]/@href'\n",
    "response.xpath(article_xpath).extract()"
   ]
  },
  {
   "cell_type": "markdown",
   "metadata": {},
   "source": [
    "## II `moreurl.py`"
   ]
  },
  {
   "cell_type": "markdown",
   "metadata": {},
   "source": [
    "## version 1\n",
    "\n",
    "```python\n",
    "\n",
    "from scrapy import Spider\n",
    "from scrapy.http import Request\n",
    "\n",
    "\n",
    "class URLSpider(Spider):\n",
    "    name = 'moreurl'\n",
    "    start_urls = (\n",
    "            \"http://www.journals.elsevier.com/decision-support-systems/\",\n",
    "            )\n",
    "    base_url = \"http://www.sciencedirect.com/science/journal/01679236/open-access\"\n",
    "\n",
    "    def parse(self, response):\n",
    "        # the response is from start_urls, it is a index response\n",
    "        # but we don't process it here\n",
    "        \n",
    "        url = self.base_url\n",
    "        # here we want the volume urls\n",
    "        # quest this url and let method parse_volume to process it.\n",
    "        yield Request(url, callback =self.parse_volume1)\n",
    "\n",
    "    def parse_volume1(self, response):\n",
    "        volume_xpath1 = '//div[@id=\"volumeIssueData\"]/ol/li/a[@class=\"volLink\"]/@href'\n",
    "        \n",
    "        for url in ['http://www.sciencedirect.com'+ i for i in response.xpath(volume_xpath1).extract()]:\n",
    "            yield Request(url, callback = self.parse_volume2)\n",
    "            \n",
    "            \n",
    "    def parse_volume2(self, response):    \n",
    "        volume_xpath2 = '//div[@id=\"volumeIssueData\"]/ol//div[@class=\"txt currentVolumes\"]/a/@href'\n",
    "        article_xpath = '//ol[@class=\"articleList results\"]//a[@class=\"cLink artTitle S_C_artTitle \"]/@href'\n",
    "            \n",
    "        for url in ['http://www.sciencedirect.com' + i for i in response.xpath(volume_xpath2).extract()]:\n",
    "            yield Request(url, callback = self.parse_volume3)\n",
    "            \n",
    "        print(\"From: \", response.url,'------------  < --  (* _ *')\n",
    "        for docurl in response.xpath(article_xpath).extract():\n",
    "            # print(docurl) should be Request(docurl, callback = self.parse_document)\n",
    "            print(docurl)\n",
    "            \n",
    "    def parse_volume3(self, response):\n",
    "        article_xpath = '//ol[@class=\"articleList results\"]//a[@class=\"cLink artTitle S_C_artTitle \"]/@href'\n",
    "        \n",
    "        print(\"From: \", response.url,'------------  < --  (* _ *')\n",
    "        for docurl in response.xpath(article_xpath).extract():\n",
    "            print(docurl)\n",
    "        \n",
    "           \n",
    "    def parse_document(self, response):\n",
    "        # in order to spare the resource\n",
    "        # in this section, this method won't be called\n",
    "        pass\n",
    "```"
   ]
  },
  {
   "cell_type": "code",
   "execution_count": 132,
   "metadata": {
    "collapsed": false
   },
   "outputs": [
    {
     "data": {
      "text/plain": [
       "<200 http://www.sciencedirect.com/science/journal/01679236/open-access>"
      ]
     },
     "execution_count": 132,
     "metadata": {},
     "output_type": "execute_result"
    }
   ],
   "source": [
    "r = requests.get('http://www.sciencedirect.com/science/journal/01679236/open-access', headers = headers)\n",
    "response = TextResponse(r.url, body = r.text, encoding = 'utf-8')\n",
    "response"
   ]
  },
  {
   "cell_type": "code",
   "execution_count": 133,
   "metadata": {
    "collapsed": false
   },
   "outputs": [
    {
     "data": {
      "text/plain": [
       "['http://www.sciencedirect.com/science/journal/01679236/93',\n",
       " 'http://www.sciencedirect.com/science/journal/01679236/90',\n",
       " 'http://www.sciencedirect.com/science/journal/01679236/80',\n",
       " 'http://www.sciencedirect.com/science/journal/01679236/70',\n",
       " 'http://www.sciencedirect.com/science/journal/01679236/60',\n",
       " 'http://www.sciencedirect.com/science/journal/01679236/50',\n",
       " 'http://www.sciencedirect.com/science/journal/01679236/40',\n",
       " 'http://www.sciencedirect.com/science/journal/01679236/30',\n",
       " 'http://www.sciencedirect.com/science/journal/01679236/20',\n",
       " 'http://www.sciencedirect.com/science/journal/01679236/10']"
      ]
     },
     "execution_count": 133,
     "metadata": {},
     "output_type": "execute_result"
    }
   ],
   "source": [
    "['http://www.sciencedirect.com'+ i for i in response.xpath(volume_xpath1).extract()]"
   ]
  },
  {
   "cell_type": "code",
   "execution_count": 134,
   "metadata": {
    "collapsed": false
   },
   "outputs": [
    {
     "data": {
      "text/plain": [
       "[]"
      ]
     },
     "execution_count": 134,
     "metadata": {},
     "output_type": "execute_result"
    }
   ],
   "source": [
    "['http://www.sciencedirect.com' + i for i in response.xpath(volume_xpath2).extract()]"
   ]
  },
  {
   "cell_type": "code",
   "execution_count": 135,
   "metadata": {
    "collapsed": false
   },
   "outputs": [
    {
     "data": {
      "text/plain": [
       "['http://www.sciencedirect.com/science/article/pii/S0167923616300239',\n",
       " 'http://www.sciencedirect.com/science/article/pii/S0167923616300197',\n",
       " 'http://www.sciencedirect.com/science/article/pii/S0167923615001967',\n",
       " 'http://www.sciencedirect.com/science/article/pii/S0167923615001426',\n",
       " 'http://www.sciencedirect.com/science/article/pii/S016792361400284X',\n",
       " 'http://www.sciencedirect.com/science/article/pii/S0167923614002498',\n",
       " 'http://www.sciencedirect.com/science/article/pii/S0167923614002012',\n",
       " 'http://www.sciencedirect.com/science/article/pii/S0167923614002036',\n",
       " 'http://www.sciencedirect.com/science/article/pii/S0167923614001493',\n",
       " 'http://www.sciencedirect.com/science/article/pii/S0167923614001250',\n",
       " 'http://www.sciencedirect.com/science/article/pii/S0167923613001814',\n",
       " 'http://www.sciencedirect.com/science/article/pii/S0167923613001875',\n",
       " 'http://www.sciencedirect.com/science/article/pii/S0167923612002783',\n",
       " 'http://www.sciencedirect.com/science/article/pii/S0167923612000024']"
      ]
     },
     "execution_count": 135,
     "metadata": {},
     "output_type": "execute_result"
    }
   ],
   "source": [
    "response.xpath(article_xpath).extract()"
   ]
  },
  {
   "cell_type": "markdown",
   "metadata": {
    "collapsed": true
   },
   "source": [
    "## version 2\n",
    "\n",
    "```python\n",
    "\n",
    "from scrapy import Spider\n",
    "from scrapy.http import Request\n",
    "\n",
    "class URLSpider(Spider):\n",
    "    name = 'moreurl'\n",
    "    start_urls = (\n",
    "            \"http://www.journals.elsevier.com/decision-support-systems/\",\n",
    "            )\n",
    "    base_url = \"http://www.sciencedirect.com/science/journal/01679236/\"\n",
    "\n",
    "    def parse(self, response):\n",
    "        url = self.base_url +'1'\n",
    "        meta = {'v':1}\n",
    "        yield Request(url, meta = meta, callback =self.parse_volume)\n",
    "\n",
    "    def parse_volume(self,response):\n",
    "\n",
    "        article_xpath = '//ol[@class=\"articleList results\"]//a[@class=\"cLink artTitle S_C_artTitle \"]/@href'\n",
    "        print(\"From: \", response.url,'------------  < --  (* _ *')\n",
    "\n",
    "        n = 0\n",
    "        for docurl in response.xpath(article_xpath).extract():\n",
    "            if docurl not in self.parsed_urls:\n",
    "                n += 1\n",
    "                self.parsed_urls.append(docurl)\n",
    "                print(docurl)\n",
    "\n",
    "\n",
    "        url = response.url + '/1'\n",
    "        if url not in self.parsed_urls:\n",
    "            self.parsed_urls.append(url)\n",
    "            yield Request(url, callback = self.parse_issue)\n",
    "\n",
    "        response.meta['v'] += 1\n",
    "        url = self.base_url + str(response.meta['v'])\n",
    "        if url not in self.parsed_urls:\n",
    "            self.parsed_urls.append(url)\n",
    "            yield Request(url, meta= response.meta, callback = self.parse_volume)\n",
    "\n",
    "\n",
    "    def parse_issue(self, response):\n",
    "\n",
    "        ## the same codes in parse_issue method.\n",
    "        article_xpath = '//ol[@class=\"articleList results\"]//a[@class=\"cLink artTitle S_C_artTitle \"]/@href'\n",
    "\n",
    "        print(\"From: \", response.url, '------------  < --  (* _ *')\n",
    "        n = 0\n",
    "        for docurl in response.xpath(article_xpath).extract():\n",
    "            if docurl not in self.parsed_urls:\n",
    "                n +=1\n",
    "                self.parsed_urls.append(docurl)\n",
    "                print(docurl)\n",
    "\n",
    "        url = response.url[:-1] + str(int(response.url[-1])+1)\n",
    "\n",
    "\n",
    "        if url not in self.parsed_urls and n != 0:\n",
    "            self.parsed_urls.append(url)\n",
    "            yield Request(url, callback = self.parse_issue)\n",
    "            \n",
    "    def parse_document(self, response):\n",
    "        pass\n",
    "        \n",
    "```"
   ]
  },
  {
   "cell_type": "code",
   "execution_count": null,
   "metadata": {
    "collapsed": true
   },
   "outputs": [],
   "source": []
  }
 ],
 "metadata": {
  "anaconda-cloud": {},
  "kernelspec": {
   "display_name": "Python [default]",
   "language": "python",
   "name": "python3"
  },
  "language_info": {
   "codemirror_mode": {
    "name": "ipython",
    "version": 3
   },
   "file_extension": ".py",
   "mimetype": "text/x-python",
   "name": "python",
   "nbconvert_exporter": "python",
   "pygments_lexer": "ipython3",
   "version": "3.5.2"
  }
 },
 "nbformat": 4,
 "nbformat_minor": 1
}
