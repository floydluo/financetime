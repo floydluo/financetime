{
 "cells": [
  {
   "cell_type": "markdown",
   "metadata": {},
   "source": [
    "## 2 Response Structure and Xpath\n",
    "\n",
    "\n",
    "---\n",
    "\n",
    "XPath is a syntax for defining parts of an XML document.\n",
    "Here `demo_xml` is an example of a XML document\n",
    "\n",
    "---"
   ]
  },
  {
   "cell_type": "markdown",
   "metadata": {},
   "source": [
    "\n",
    "\n",
    "\n",
    "![screen shot 2017-01-09 at 6 16 58 pm](https://cloud.githubusercontent.com/assets/18824134/21763296/2aaab140-d698-11e6-8a1f-1a90f2859bd8.png)\n",
    "\n"
   ]
  },
  {
   "cell_type": "code",
   "execution_count": 1,
   "metadata": {
    "collapsed": true
   },
   "outputs": [],
   "source": [
    "#import the configuration\n",
    "import requests\n",
    "from scrapy.http import TextResponse"
   ]
  },
  {
   "cell_type": "markdown",
   "metadata": {},
   "source": [
    "In the xml document the data are stored in different block ust like 'Matryoshka doll' and it just looks like\n",
    "< documents>< document>< keywords>< keyword>..(data inside)..< keyword/>< keywords/>...< document/>< documents/>\n",
    "\n",
    "The data of keyword is stored in the < keyword>< keyword/>block inside < keywords>< keywords/>block.\n",
    "\n",
    "The < keywords>< keywords/>block is located in the < documents>< documents/>block.\n",
    "\n",
    "Therefore, we have a Xpath to aceess the < keyword>< keyword/>block:\n",
    "\n",
    "xpath= '//documents/document/keywords/keyword'"
   ]
  },
  {
   "cell_type": "code",
   "execution_count": 2,
   "metadata": {
    "collapsed": false
   },
   "outputs": [],
   "source": [
    "#here we instantiate the xml file\n",
    "demo_xml = open('metadata.xml', 'r', encoding ='UTF-8')"
   ]
  },
  {
   "cell_type": "code",
   "execution_count": 3,
   "metadata": {
    "collapsed": false,
    "scrolled": true
   },
   "outputs": [],
   "source": [
    "#we read the xml file and set it as body\n",
    "body = demo_xml.read()"
   ]
  },
  {
   "cell_type": "code",
   "execution_count": 4,
   "metadata": {
    "collapsed": false,
    "scrolled": true
   },
   "outputs": [
    {
     "data": {
      "text/plain": [
       "b'<?xml version=\\'1.0\\' encoding=\\'iso-8859-1\\' ?>\\n<documents><document>\\n<title>An Attraction-Selection-Attrition Theory of Online Community Size and Resilience</title>\\n<publication-date>2014-09-01T00:00:00-07:00</publication-date>\\n<authors>\\n<author>\\n<email>bsbutler@umd.edu</email>\\n<institution>University of Maryland - College Park</institution>\\n<lname>Butler</lname>\\n<fname>Brian</fname>\\n<mname>S</mname>\\n</author>\\n<author>\\n<email>pjbateman@ysu.edu</email>\\n<institution>Youngstown State University</institution>\\n<lname>Bateman</lname>\\n<fname>Patrick</fname>\\n<mname>J.</mname>\\n</author>\\n<author>\\n<email>peter@virginia.edu</email>\\n<institution>University of Virginia</institution>\\n<lname>Gray</lname>\\n<fname>Peter</fname>\\n<mname>H.</mname>\\n</author>\\n<author>\\n<email>ilanadm@uw.edu</email>\\n<institution>University of Washington</institution>\\n<lname>Diamant</lname>\\n<fname>E.</fname>\\n<mname>Ilana</mname>\\n</author>\\n</authors>\\n<keywords>\\n<keyword>Online communities</keyword>\\n<keyword>social media</keyword>\\n<keyword>benefits</keyword>\\n<keyword>costs</keyword>\\n<keyword>emergent systems</keyword>\\n<keyword>simulation</keyword>\\n</keywords>\\n<abstract>&lt;p&gt;&lt;em&gt;Online discussion communities play an important role in the development of relationships and the transfer of knowledge within and across organizations. Their underlying technologies enhance these processes by providing infrastructures through which group-based communication can occur. Community administrators often make decisions about technologies with the goal of enhancing the user experience, but the impact of such decisions on how a community develops must also be considered. To shed light on this complex and under-researched phenomenon, we offer a model of key latent constructs influenced by technology choices and possible causal paths by which they have dynamic effects on communities. Two important community characteristics that can be impacted are &lt;strong&gt;community size&lt;/strong&gt; (number of members) and &lt;strong&gt;community resilience&lt;/strong&gt; (membership that is willing to remain involved with the community in spite of variability and change in the topics discussed). To model community development, we build on attraction\\xe2\\x80\\x93selection\\xe2\\x80\\x93attrition (ASA) theory, introducing two new concepts: &lt;strong&gt;participation costs&lt;/strong&gt; (how much time and effort are required to engage with content provided in a community) and &lt;strong&gt;topic consistency cues&lt;/strong&gt; (how strongly a community signals that topics that may appear in the future will be consistent with what it has hosted in the past). We use the proposed ASA theory of online communities (OCASA) to develop a simulation model of community size and resilience that affirms some conventional wisdom and also has novel and counterintuitive implications. Analysis of the model leads to testable new propositions about the causal paths by which technology choices affect the emergence of community size and community resilience, and associated implications for community sustainability.&lt;/em&gt;&lt;/p&gt;</abstract>\\n<fpage>699</fpage>\\n<lpage>728</lpage>\\n<coverpage-url>http://aisel.aisnet.org/misq/vol38/iss3/6</coverpage-url>\\n<fulltext-url>http://aisel.aisnet.org/cgi/viewcontent.cgi?article=3189&amp;amp;context=misq&amp;amp;unstamped=1</fulltext-url>\\n<label>6</label>\\n<document-type>article</document-type>\\n<type>article</type>\\n<articleid>3189</articleid>\\n<submission-date>2014-07-31T11:59:14-07:00</submission-date>\\n<publication-title>Management Information Systems Quarterly</publication-title>\\n<context-key>5854455</context-key>\\n<submission-path>misq/vol38/iss3/6</submission-path>\\n<fields>\\n<field name=\"embargo_date\" type=\"date\">\\n<value>2014-07-31T00:00:00-07:00</value>\\n</field>\\n<field name=\"peer_reviewed\" type=\"boolean\">\\n<value>true</value>\\n</field>\\n<field name=\"publication_date\" type=\"date\">\\n<value>2014-09-01T00:00:00-07:00</value>\\n</field>\\n<field name=\"short_title\" type=\"string\">\\n<value>Online Community Size &amp; Resilience</value>\\n</field>\\n</fields>\\n</document>\\n</documents>'"
      ]
     },
     "execution_count": 4,
     "metadata": {},
     "output_type": "execute_result"
    }
   ],
   "source": [
    "# Here we instantiate a response with the xml as above\n",
    "response = TextResponse('url.com', body = body, encoding = 'utf-8')\n",
    "response.body"
   ]
  },
  {
   "cell_type": "markdown",
   "metadata": {},
   "source": [
    "### Some Examples\n",
    "\n",
    "---\n",
    "\n",
    "Here are some example for using the xpath method\n",
    "Xpath uses path expressions (url) to navigate in XML documents\n",
    "\n",
    "---"
   ]
  },
  {
   "cell_type": "markdown",
   "metadata": {},
   "source": [
    "Consider Part 1"
   ]
  },
  {
   "cell_type": "code",
   "execution_count": 5,
   "metadata": {
    "collapsed": false
   },
   "outputs": [
    {
     "data": {
      "text/plain": [
       "[<Selector xpath='//documents/document/keywords/keyword' data='<keyword>Online communities</keyword>'>,\n",
       " <Selector xpath='//documents/document/keywords/keyword' data='<keyword>social media</keyword>'>,\n",
       " <Selector xpath='//documents/document/keywords/keyword' data='<keyword>benefits</keyword>'>,\n",
       " <Selector xpath='//documents/document/keywords/keyword' data='<keyword>costs</keyword>'>,\n",
       " <Selector xpath='//documents/document/keywords/keyword' data='<keyword>emergent systems</keyword>'>,\n",
       " <Selector xpath='//documents/document/keywords/keyword' data='<keyword>simulation</keyword>'>]"
      ]
     },
     "execution_count": 5,
     "metadata": {},
     "output_type": "execute_result"
    }
   ],
   "source": [
    "\n",
    "response.xpath('//documents/document/keywords/keyword')"
   ]
  },
  {
   "cell_type": "markdown",
   "metadata": {},
   "source": [
    "We can get the text inside the block through the method .extract( ) and add '/text()'at the end of the url\n",
    "\n",
    "Notice:  The result will be in list[]"
   ]
  },
  {
   "cell_type": "code",
   "execution_count": 6,
   "metadata": {
    "collapsed": false
   },
   "outputs": [
    {
     "data": {
      "text/plain": [
       "['Online communities',\n",
       " 'social media',\n",
       " 'benefits',\n",
       " 'costs',\n",
       " 'emergent systems',\n",
       " 'simulation']"
      ]
     },
     "execution_count": 6,
     "metadata": {},
     "output_type": "execute_result"
    }
   ],
   "source": [
    "response.xpath('//documents/document/keywords/keyword/text()').extract()"
   ]
  },
  {
   "cell_type": "markdown",
   "metadata": {},
   "source": [
    "If there are more than one 'keyword' block in 'keywords', it will print all of the text in keyword out."
   ]
  },
  {
   "cell_type": "code",
   "execution_count": 7,
   "metadata": {
    "collapsed": false
   },
   "outputs": [
    {
     "data": {
      "text/plain": [
       "['social media']"
      ]
     },
     "execution_count": 7,
     "metadata": {},
     "output_type": "execute_result"
    }
   ],
   "source": [
    "# If we change the url to 'keyword[2]', \n",
    "# we can take the second 'keyword' block \n",
    "response.xpath('//documents/document/keywords/keyword[2]/text()').extract()"
   ]
  },
  {
   "cell_type": "markdown",
   "metadata": {},
   "source": [
    "Consider part 2\n",
    "we can have an easier way to acess the data"
   ]
  },
  {
   "cell_type": "code",
   "execution_count": 8,
   "metadata": {
    "collapsed": false
   },
   "outputs": [
    {
     "data": {
      "text/plain": [
       "[]"
      ]
     },
     "execution_count": 8,
     "metadata": {},
     "output_type": "execute_result"
    }
   ],
   "source": [
    "#This meathod means serching all block with 'class' name = \"keyword\"\n",
    "response.xpath('//*[@name=\"embargo-data\"]/text()').extract()"
   ]
  },
  {
   "cell_type": "markdown",
   "metadata": {
    "collapsed": true
   },
   "source": [
    "## Real Web Page"
   ]
  },
  {
   "cell_type": "code",
   "execution_count": 9,
   "metadata": {
    "collapsed": false
   },
   "outputs": [
    {
     "data": {
      "text/plain": [
       "<200 https://www.journals.elsevier.com/decision-support-systems/>"
      ]
     },
     "execution_count": 9,
     "metadata": {},
     "output_type": "execute_result"
    }
   ],
   "source": [
    "# add header here, therefore you can get the right url\n",
    "# notice that I define the headers dictionary in In[1] unit.\n",
    "r = requests.get('http://www.journals.elsevier.com/decision-support-systems/')\n",
    "\n",
    "response = TextResponse(r.url, body = r.text, encoding = 'utf-8')\n",
    "response\n"
   ]
  },
  {
   "cell_type": "code",
   "execution_count": 10,
   "metadata": {
    "collapsed": false
   },
   "outputs": [
    {
     "data": {
      "text/plain": [
       "['0167-9236']"
      ]
     },
     "execution_count": 10,
     "metadata": {},
     "output_type": "execute_result"
    }
   ],
   "source": [
    "response.xpath('//*[@class=\"issn keyword\"]/span/text()').extract()\n"
   ]
  }
 ],
 "metadata": {
  "anaconda-cloud": {},
  "kernelspec": {
   "display_name": "Python [default]",
   "language": "python",
   "name": "python3"
  },
  "language_info": {
   "codemirror_mode": {
    "name": "ipython",
    "version": 3
   },
   "file_extension": ".py",
   "mimetype": "text/x-python",
   "name": "python",
   "nbconvert_exporter": "python",
   "pygments_lexer": "ipython3",
   "version": "3.5.2"
  }
 },
 "nbformat": 4,
 "nbformat_minor": 1
}
